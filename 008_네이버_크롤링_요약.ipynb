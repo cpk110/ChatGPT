{
  "nbformat": 4,
  "nbformat_minor": 0,
  "metadata": {
    "colab": {
      "provenance": [],
      "authorship_tag": "ABX9TyPchGFW6eXVBi/ycpG4mNSl",
      "include_colab_link": true
    },
    "kernelspec": {
      "name": "python3",
      "display_name": "Python 3"
    },
    "language_info": {
      "name": "python"
    }
  },
  "cells": [
    {
      "cell_type": "markdown",
      "metadata": {
        "id": "view-in-github",
        "colab_type": "text"
      },
      "source": [
        "<a href=\"https://colab.research.google.com/github/cpk110/ChatGPT/blob/master/008_%EB%84%A4%EC%9D%B4%EB%B2%84_%ED%81%AC%EB%A1%A4%EB%A7%81_%EC%9A%94%EC%95%BD.ipynb\" target=\"_parent\"><img src=\"https://colab.research.google.com/assets/colab-badge.svg\" alt=\"Open In Colab\"/></a>"
      ]
    },
    {
      "cell_type": "code",
      "execution_count": null,
      "metadata": {
        "colab": {
          "base_uri": "https://localhost:8080/"
        },
        "id": "dA189q9oZo7v",
        "outputId": "f04e79b7-7b61-4aa6-a847-7f7d22fe2bc2"
      },
      "outputs": [
        {
          "output_type": "stream",
          "name": "stdout",
          "text": [
            "Mounted at /content/drive\n",
            "/content/drive/MyDrive/ai_chatbot_python/ChatGPT\n"
          ]
        }
      ],
      "source": [
        "from google.colab import drive\n",
        "drive.mount('/content/drive')\n",
        "\n",
        "%cd '/content/drive/MyDrive/ai_chatbot_python/ChatGPT'"
      ]
    },
    {
      "cell_type": "code",
      "source": [
        "# tiktoken 모듈은 OpenAI 모델에서 사용되기 위해 제작된 BPE 토크나이저입니다.\n",
        "!pip install  langchain openai==0.28.1  gradio==3.40.1 typing-extensions==4.9.0 langchain tiktoken\n",
        "# typing-extensions==3.10.0.2"
      ],
      "metadata": {
        "colab": {
          "base_uri": "https://localhost:8080/"
        },
        "id": "SQ-x0oOHZvLt",
        "outputId": "b5fe03c0-bc8c-4fa9-84c2-bdff6a2c9585"
      },
      "execution_count": null,
      "outputs": [
        {
          "output_type": "stream",
          "name": "stdout",
          "text": [
            "Requirement already satisfied: langchain in /usr/local/lib/python3.10/dist-packages (0.0.354)\n",
            "Requirement already satisfied: openai==0.28.1 in /usr/local/lib/python3.10/dist-packages (0.28.1)\n",
            "Requirement already satisfied: gradio==3.40.1 in /usr/local/lib/python3.10/dist-packages (3.40.1)\n",
            "Requirement already satisfied: typing-extensions==4.9.0 in /usr/local/lib/python3.10/dist-packages (4.9.0)\n",
            "Requirement already satisfied: tiktoken in /usr/local/lib/python3.10/dist-packages (0.5.2)\n",
            "Requirement already satisfied: requests>=2.20 in /usr/local/lib/python3.10/dist-packages (from openai==0.28.1) (2.31.0)\n",
            "Requirement already satisfied: tqdm in /usr/local/lib/python3.10/dist-packages (from openai==0.28.1) (4.66.1)\n",
            "Requirement already satisfied: aiohttp in /usr/local/lib/python3.10/dist-packages (from openai==0.28.1) (3.9.1)\n",
            "Requirement already satisfied: aiofiles<24.0,>=22.0 in /usr/local/lib/python3.10/dist-packages (from gradio==3.40.1) (23.2.1)\n",
            "Requirement already satisfied: altair<6.0,>=4.2.0 in /usr/local/lib/python3.10/dist-packages (from gradio==3.40.1) (4.2.2)\n",
            "Requirement already satisfied: fastapi in /usr/local/lib/python3.10/dist-packages (from gradio==3.40.1) (0.108.0)\n",
            "Requirement already satisfied: ffmpy in /usr/local/lib/python3.10/dist-packages (from gradio==3.40.1) (0.3.1)\n",
            "Requirement already satisfied: gradio-client>=0.4.0 in /usr/local/lib/python3.10/dist-packages (from gradio==3.40.1) (0.8.0)\n",
            "Requirement already satisfied: httpx in /usr/local/lib/python3.10/dist-packages (from gradio==3.40.1) (0.26.0)\n",
            "Requirement already satisfied: huggingface-hub>=0.14.0 in /usr/local/lib/python3.10/dist-packages (from gradio==3.40.1) (0.20.1)\n",
            "Requirement already satisfied: importlib-resources<7.0,>=1.3 in /usr/local/lib/python3.10/dist-packages (from gradio==3.40.1) (6.1.1)\n",
            "Requirement already satisfied: jinja2<4.0 in /usr/local/lib/python3.10/dist-packages (from gradio==3.40.1) (3.1.2)\n",
            "Requirement already satisfied: markdown-it-py[linkify]>=2.0.0 in /usr/local/lib/python3.10/dist-packages (from gradio==3.40.1) (2.2.0)\n",
            "Requirement already satisfied: markupsafe~=2.0 in /usr/local/lib/python3.10/dist-packages (from gradio==3.40.1) (2.1.3)\n",
            "Requirement already satisfied: matplotlib~=3.0 in /usr/local/lib/python3.10/dist-packages (from gradio==3.40.1) (3.7.1)\n",
            "Requirement already satisfied: mdit-py-plugins<=0.3.3 in /usr/local/lib/python3.10/dist-packages (from gradio==3.40.1) (0.3.3)\n",
            "Requirement already satisfied: numpy~=1.0 in /usr/local/lib/python3.10/dist-packages (from gradio==3.40.1) (1.23.5)\n",
            "Requirement already satisfied: orjson~=3.0 in /usr/local/lib/python3.10/dist-packages (from gradio==3.40.1) (3.9.10)\n",
            "Requirement already satisfied: packaging in /usr/local/lib/python3.10/dist-packages (from gradio==3.40.1) (23.2)\n",
            "Requirement already satisfied: pandas<3.0,>=1.0 in /usr/local/lib/python3.10/dist-packages (from gradio==3.40.1) (1.5.3)\n",
            "Requirement already satisfied: pillow<11.0,>=8.0 in /usr/local/lib/python3.10/dist-packages (from gradio==3.40.1) (9.4.0)\n",
            "Requirement already satisfied: pydantic!=1.8,!=1.8.1,!=2.0.0,!=2.0.1,<3.0.0,>=1.7.4 in /usr/local/lib/python3.10/dist-packages (from gradio==3.40.1) (1.10.13)\n",
            "Requirement already satisfied: pydub in /usr/local/lib/python3.10/dist-packages (from gradio==3.40.1) (0.25.1)\n",
            "Requirement already satisfied: python-multipart in /usr/local/lib/python3.10/dist-packages (from gradio==3.40.1) (0.0.6)\n",
            "Requirement already satisfied: pyyaml<7.0,>=5.0 in /usr/local/lib/python3.10/dist-packages (from gradio==3.40.1) (6.0.1)\n",
            "Requirement already satisfied: semantic-version~=2.0 in /usr/local/lib/python3.10/dist-packages (from gradio==3.40.1) (2.10.0)\n",
            "Requirement already satisfied: uvicorn>=0.14.0 in /usr/local/lib/python3.10/dist-packages (from gradio==3.40.1) (0.25.0)\n",
            "Requirement already satisfied: websockets<12.0,>=10.0 in /usr/local/lib/python3.10/dist-packages (from gradio==3.40.1) (11.0.3)\n",
            "Requirement already satisfied: SQLAlchemy<3,>=1.4 in /usr/local/lib/python3.10/dist-packages (from langchain) (2.0.23)\n",
            "Requirement already satisfied: async-timeout<5.0.0,>=4.0.0 in /usr/local/lib/python3.10/dist-packages (from langchain) (4.0.3)\n",
            "Requirement already satisfied: dataclasses-json<0.7,>=0.5.7 in /usr/local/lib/python3.10/dist-packages (from langchain) (0.6.3)\n",
            "Requirement already satisfied: jsonpatch<2.0,>=1.33 in /usr/local/lib/python3.10/dist-packages (from langchain) (1.33)\n",
            "Requirement already satisfied: langchain-community<0.1,>=0.0.8 in /usr/local/lib/python3.10/dist-packages (from langchain) (0.0.8)\n",
            "Requirement already satisfied: langchain-core<0.2,>=0.1.5 in /usr/local/lib/python3.10/dist-packages (from langchain) (0.1.5)\n",
            "Requirement already satisfied: langsmith<0.1.0,>=0.0.77 in /usr/local/lib/python3.10/dist-packages (from langchain) (0.0.77)\n",
            "Requirement already satisfied: tenacity<9.0.0,>=8.1.0 in /usr/local/lib/python3.10/dist-packages (from langchain) (8.2.3)\n",
            "Requirement already satisfied: regex>=2022.1.18 in /usr/local/lib/python3.10/dist-packages (from tiktoken) (2023.6.3)\n",
            "Requirement already satisfied: attrs>=17.3.0 in /usr/local/lib/python3.10/dist-packages (from aiohttp->openai==0.28.1) (23.1.0)\n",
            "Requirement already satisfied: multidict<7.0,>=4.5 in /usr/local/lib/python3.10/dist-packages (from aiohttp->openai==0.28.1) (6.0.4)\n",
            "Requirement already satisfied: yarl<2.0,>=1.0 in /usr/local/lib/python3.10/dist-packages (from aiohttp->openai==0.28.1) (1.9.4)\n",
            "Requirement already satisfied: frozenlist>=1.1.1 in /usr/local/lib/python3.10/dist-packages (from aiohttp->openai==0.28.1) (1.4.1)\n",
            "Requirement already satisfied: aiosignal>=1.1.2 in /usr/local/lib/python3.10/dist-packages (from aiohttp->openai==0.28.1) (1.3.1)\n",
            "Requirement already satisfied: entrypoints in /usr/local/lib/python3.10/dist-packages (from altair<6.0,>=4.2.0->gradio==3.40.1) (0.4)\n",
            "Requirement already satisfied: jsonschema>=3.0 in /usr/local/lib/python3.10/dist-packages (from altair<6.0,>=4.2.0->gradio==3.40.1) (4.19.2)\n",
            "Requirement already satisfied: toolz in /usr/local/lib/python3.10/dist-packages (from altair<6.0,>=4.2.0->gradio==3.40.1) (0.12.0)\n",
            "Requirement already satisfied: marshmallow<4.0.0,>=3.18.0 in /usr/local/lib/python3.10/dist-packages (from dataclasses-json<0.7,>=0.5.7->langchain) (3.20.1)\n",
            "Requirement already satisfied: typing-inspect<1,>=0.4.0 in /usr/local/lib/python3.10/dist-packages (from dataclasses-json<0.7,>=0.5.7->langchain) (0.9.0)\n",
            "Requirement already satisfied: fsspec in /usr/local/lib/python3.10/dist-packages (from gradio-client>=0.4.0->gradio==3.40.1) (2023.6.0)\n",
            "Requirement already satisfied: filelock in /usr/local/lib/python3.10/dist-packages (from huggingface-hub>=0.14.0->gradio==3.40.1) (3.13.1)\n",
            "Requirement already satisfied: jsonpointer>=1.9 in /usr/local/lib/python3.10/dist-packages (from jsonpatch<2.0,>=1.33->langchain) (2.4)\n",
            "Requirement already satisfied: anyio<5,>=3 in /usr/local/lib/python3.10/dist-packages (from langchain-core<0.2,>=0.1.5->langchain) (3.7.1)\n",
            "Requirement already satisfied: mdurl~=0.1 in /usr/local/lib/python3.10/dist-packages (from markdown-it-py[linkify]>=2.0.0->gradio==3.40.1) (0.1.2)\n",
            "Requirement already satisfied: linkify-it-py<3,>=1 in /usr/local/lib/python3.10/dist-packages (from markdown-it-py[linkify]>=2.0.0->gradio==3.40.1) (2.0.2)\n",
            "Requirement already satisfied: contourpy>=1.0.1 in /usr/local/lib/python3.10/dist-packages (from matplotlib~=3.0->gradio==3.40.1) (1.2.0)\n",
            "Requirement already satisfied: cycler>=0.10 in /usr/local/lib/python3.10/dist-packages (from matplotlib~=3.0->gradio==3.40.1) (0.12.1)\n",
            "Requirement already satisfied: fonttools>=4.22.0 in /usr/local/lib/python3.10/dist-packages (from matplotlib~=3.0->gradio==3.40.1) (4.47.0)\n",
            "Requirement already satisfied: kiwisolver>=1.0.1 in /usr/local/lib/python3.10/dist-packages (from matplotlib~=3.0->gradio==3.40.1) (1.4.5)\n",
            "Requirement already satisfied: pyparsing>=2.3.1 in /usr/local/lib/python3.10/dist-packages (from matplotlib~=3.0->gradio==3.40.1) (3.1.1)\n",
            "Requirement already satisfied: python-dateutil>=2.7 in /usr/local/lib/python3.10/dist-packages (from matplotlib~=3.0->gradio==3.40.1) (2.8.2)\n",
            "Requirement already satisfied: pytz>=2020.1 in /usr/local/lib/python3.10/dist-packages (from pandas<3.0,>=1.0->gradio==3.40.1) (2023.3.post1)\n",
            "Requirement already satisfied: charset-normalizer<4,>=2 in /usr/local/lib/python3.10/dist-packages (from requests>=2.20->openai==0.28.1) (3.3.2)\n",
            "Requirement already satisfied: idna<4,>=2.5 in /usr/local/lib/python3.10/dist-packages (from requests>=2.20->openai==0.28.1) (3.6)\n",
            "Requirement already satisfied: urllib3<3,>=1.21.1 in /usr/local/lib/python3.10/dist-packages (from requests>=2.20->openai==0.28.1) (2.0.7)\n",
            "Requirement already satisfied: certifi>=2017.4.17 in /usr/local/lib/python3.10/dist-packages (from requests>=2.20->openai==0.28.1) (2023.11.17)\n",
            "Requirement already satisfied: greenlet!=0.4.17 in /usr/local/lib/python3.10/dist-packages (from SQLAlchemy<3,>=1.4->langchain) (3.0.2)\n",
            "Requirement already satisfied: click>=7.0 in /usr/local/lib/python3.10/dist-packages (from uvicorn>=0.14.0->gradio==3.40.1) (8.1.7)\n",
            "Requirement already satisfied: h11>=0.8 in /usr/local/lib/python3.10/dist-packages (from uvicorn>=0.14.0->gradio==3.40.1) (0.14.0)\n",
            "Requirement already satisfied: starlette<0.33.0,>=0.29.0 in /usr/local/lib/python3.10/dist-packages (from fastapi->gradio==3.40.1) (0.32.0.post1)\n",
            "Requirement already satisfied: httpcore==1.* in /usr/local/lib/python3.10/dist-packages (from httpx->gradio==3.40.1) (1.0.2)\n",
            "Requirement already satisfied: sniffio in /usr/local/lib/python3.10/dist-packages (from httpx->gradio==3.40.1) (1.3.0)\n",
            "Requirement already satisfied: exceptiongroup in /usr/local/lib/python3.10/dist-packages (from anyio<5,>=3->langchain-core<0.2,>=0.1.5->langchain) (1.2.0)\n",
            "Requirement already satisfied: jsonschema-specifications>=2023.03.6 in /usr/local/lib/python3.10/dist-packages (from jsonschema>=3.0->altair<6.0,>=4.2.0->gradio==3.40.1) (2023.11.2)\n",
            "Requirement already satisfied: referencing>=0.28.4 in /usr/local/lib/python3.10/dist-packages (from jsonschema>=3.0->altair<6.0,>=4.2.0->gradio==3.40.1) (0.32.0)\n",
            "Requirement already satisfied: rpds-py>=0.7.1 in /usr/local/lib/python3.10/dist-packages (from jsonschema>=3.0->altair<6.0,>=4.2.0->gradio==3.40.1) (0.15.2)\n",
            "Requirement already satisfied: uc-micro-py in /usr/local/lib/python3.10/dist-packages (from linkify-it-py<3,>=1->markdown-it-py[linkify]>=2.0.0->gradio==3.40.1) (1.0.2)\n",
            "Requirement already satisfied: six>=1.5 in /usr/local/lib/python3.10/dist-packages (from python-dateutil>=2.7->matplotlib~=3.0->gradio==3.40.1) (1.16.0)\n",
            "Requirement already satisfied: mypy-extensions>=0.3.0 in /usr/local/lib/python3.10/dist-packages (from typing-inspect<1,>=0.4.0->dataclasses-json<0.7,>=0.5.7->langchain) (1.0.0)\n"
          ]
        }
      ]
    },
    {
      "cell_type": "code",
      "source": [
        "import os\n",
        "os.environ['OPENAI_API_KEY'] = 'sk-'"
      ],
      "metadata": {
        "id": "s9a82RqYZwx9"
      },
      "execution_count": null,
      "outputs": []
    },
    {
      "cell_type": "markdown",
      "source": [
        "- PromptTemplate : 사용자의 입력 변수를 사용하여 완전한 프롬프트 문자열을 만드는 데 사용되는 템플릿이다.  \n",
        "- template: 템플릿 문자열입니다. 이 문자열 내에서 중괄호 {}는 변수  \n",
        "- input_variables: 중괄호 안에 들어갈 변수의 이름을 리스트로 정의  \n",
        "\n",
        "  ```python\n",
        "    no_input_prompt = PromptTemplate(\n",
        "      input_variable=['current'],\n",
        "      template = '맛있는 {current }하면?'\n",
        "    )\n",
        "  ```\n",
        "\n",
        "  no_input_prompt.format(current='과일')"
      ],
      "metadata": {
        "id": "ajMcreAZeZL0"
      }
    },
    {
      "cell_type": "code",
      "source": [
        "from langchain.chat_models import ChatOpenAI\n",
        "from langchain.document_loaders import WebBaseLoader\n",
        "from langchain.text_splitter import CharacterTextSplitter\n",
        "from langchain.chains.summarize import load_summarize_chain\n",
        "from langchain.prompts import PromptTemplate\n",
        "\n",
        "\n",
        "# 네이버 뉴스기사 주소\n",
        "url = 'https://n.news.naver.com/article/016/0002247281?sid=110'\n",
        "\n",
        "# 웹 문서 크롤링\n",
        "loader = WebBaseLoader(url)\n",
        "# print(loader)\n",
        "# print(type(loader))\n",
        "# print(dir(loader))\n",
        "# print(loader.load())\n",
        "\n",
        "# 뉴스기사의 본문을 Chunk 단위로 쪼갬\n",
        "# length_function : 청크의 길이를 계산하는 방법,\n",
        "#                   기본적으로 문자 수만 세지만 여기서는 토큰 카운터를 전달하는 것이 중요\n",
        "text_splitter = CharacterTextSplitter(\n",
        "    separator = '\\n\\n',\n",
        "    chunk_size = 3000,\n",
        "    chunk_overlap = 300,\n",
        "    length_function = len\n",
        ")\n",
        "# print(text_splitter)\n",
        "# print(type(text_splitter))\n",
        "# print(dir(text_splitter))"
      ],
      "metadata": {
        "id": "QvCSODptrGTd"
      },
      "execution_count": null,
      "outputs": []
    },
    {
      "cell_type": "code",
      "source": [
        "from langchain.chat_models import ChatOpenAI\n",
        "from langchain.document_loaders import WebBaseLoader\n",
        "from langchain.text_splitter import CharacterTextSplitter\n",
        "from langchain.chains.summarize import load_summarize_chain\n",
        "from langchain.prompts import PromptTemplate\n",
        "\n",
        "\n",
        "# 네이버 뉴스기사 주소\n",
        "url = 'https://n.news.naver.com/article/016/0002247281?sid=110'\n",
        "\n",
        "# 웹 문서 크롤링\n",
        "loader = WebBaseLoader(url)\n",
        "\n",
        "# 뉴스기사의 본문을 Chunk 단위로 쪼갬\n",
        "# length_function : 청크의 길이를 계산하는 방법,\n",
        "#                   기본적으로 문자 수만 세지만 여기서는 토큰 카운터를 전달하는 것이 중요\n",
        "text_splitter = CharacterTextSplitter(\n",
        "    separator = '\\n\\n',\n",
        "    chunk_size = 3000,\n",
        "    chunk_overlap = 300,\n",
        "    length_function = len\n",
        ")\n",
        "\n",
        "# 웹사이트 내용 크롤링 후 Chunk 단위로 분할\n",
        "docs = loader.load_and_split(text_splitter)\n",
        "\n",
        "# 각 Chunk 단위의 템플릿\n",
        "template = '''다음의 내용을 한글로 요약해줘 :\n",
        "\n",
        "{text}\n",
        "'''\n",
        "\n",
        "# 전체 문서 (혹은 전체 Chunk)에 대한 지시(instruct) 정의\n",
        "combine_template = '''{text}\n",
        "\n",
        "요약의 결과는 다음의 형식으로 작성해줘 :\n",
        "제목 : 신문기사의 제목\n",
        "주요내용 : 한 줄로 요약 된 내용\n",
        "내용 : 주요내용을 불렛포인트 형식으로 작성\n",
        "'''\n",
        "\n",
        "# 템플릿 생성\n",
        "prompt = PromptTemplate(template = template, input_variables = ['text'])\n",
        "combine_prompt = PromptTemplate(template = combine_template, input_variables = ['text'])\n",
        "\n",
        "# LLM 객체 생성\n",
        "llm = ChatOpenAI(\n",
        "    temperature = 0, model_name = 'gpt-3.5-turbo'\n",
        ")\n",
        "\n",
        "# 요약을 도와주는 load_summarize_chain\n",
        "chain = load_summarize_chain(\n",
        "    llm,\n",
        "    map_prompt = prompt,\n",
        "    combine_prompt = combine_prompt,\n",
        "    chain_type = 'map_reduce',\n",
        "    verbose = False\n",
        ")"
      ],
      "metadata": {
        "id": "lQNdf8-NaRj5"
      },
      "execution_count": null,
      "outputs": []
    },
    {
      "cell_type": "code",
      "source": [
        "# 실행결과\n",
        "print(type(chain.run(docs)))\n",
        "# print(dir(chain.run(docs)))\n",
        "# print(chain.run(docs))\n",
        "print(chain(docs))"
      ],
      "metadata": {
        "colab": {
          "base_uri": "https://localhost:8080/"
        },
        "id": "W3_ocOE1aR4E",
        "outputId": "495f100d-9544-4c1e-cdce-5d64189f1a11"
      },
      "execution_count": null,
      "outputs": [
        {
          "output_type": "stream",
          "name": "stdout",
          "text": [
            "<class 'str'>\n",
            "{'input_documents': [Document(page_content='소액투자자 위해 금투세 폐지? 증권거래세는? [홍길용의 화식열전]\\n\\n본문 바로가기\\n\\n\\n이전 페이지\\n\\n\\n헤럴드경제\\n\\n구독\\n\\n언론사를 구독하면 메인에서 바로 볼 수 있어요!\\n\\n\\n메인 뉴스판에서 헤럴드경제 주요뉴스를  볼 수 있습니다.\\n보러가기\\n\\n\\n헤럴드경제 언론사 구독 해지되었습니다.\\n\\n\\n주요뉴스\\n숏폼\\n정치\\n경제\\n사회\\n생활\\n세계\\nIT\\n사설/칼럼\\n신문보기\\n랭킹\\n\\n소액투자자 위해 금투세 폐지? 증권거래세는? [홍길용의 화식열전]\\n\\n\\n입력2024.01.03. 오후 5:36\\n\\n기사원문\\n \\n\\n\\n홍길용 기자\\n\\n\\n홍길용 기자\\n\\n구독\\n구독중\\n\\n\\n구독자\\n0\\n\\n\\n응원수\\n0\\n\\n더보기\\n\\n\\n추천\\n\\n\\n쏠쏠정보\\n0\\n\\n\\n흥미진진\\n0\\n\\n\\n공감백배\\n0\\n\\n\\n분석탁월\\n0\\n\\n\\n후속강추\\n0\\n\\n\\n \\n\\n댓글\\n\\n텍스트 음성 변환 서비스 사용하기\\n\\n성별\\n남성\\n여성\\n\\n\\n말하기 속도\\n느림\\n보통\\n빠름\\n\\n이동 통신망을 이용하여 음성을 재생하면 별도의 데이터 통화료가 부과될 수 있습니다.\\n본문듣기 시작\\n\\n닫기\\n\\n\\n \\n\\n글자 크기 변경하기\\n\\n가1단계\\n작게\\n\\n\\n가2단계\\n보통\\n\\n\\n가3단계\\n크게\\n\\n\\n가4단계\\n아주크게\\n\\n\\n가5단계\\n최대크게\\n\\n\\nSNS 보내기\\n\\n인쇄하기\\n\\n\\n尹 ‘증시활성화’ 내세워 추진 약속국회 법 개정 필요…정부 권한 밖양도세 없으면 차익실현 더 유리장기투자 줄면 주가 부담될 수도균형 갖춰야  부자감세 우려 불식실행가능 약속해야 국민혼선 예방\\n\\n꼭 1년 전인 2023년 1월 3일 국토교통부는 신년 업무보고 형식으로 ‘1·3대책’을 발표한다. 규제지역을 해제하고 분양가상한제와 전매 제한을 완화하는 내용이었다. 대부분이 시행령이나 규칙만 바꾸면 가능한 조치였다. 다만 수도권의 분양가상한제 주택에 대한 실거주 의무 폐지는 법개정 사항이었다. 정부가 한다고 해서 기대했던 이들이 적지 않았지만 관련 법 개정은 국회에서 이뤄지지 않았다.정부는 국회에서 통과한 법안의 시행을 거부(재의요구)할 수 있지만 법률을 고치거나 새로 만드는 권한은 없다. 대통령과 정부가 뭔가를 한다고 발표할 때 법 개정 사항인지 아닌지 반드시 따져봐야 하는 이유다. 설령 여당이 국회 의석 과반을 가졌다고 해도 낙관하기 어렵다. 해당 법안에 쟁점이 많다면 관련 상임위 처리(조정안 채택)에 재적의원 3분의2의 찬성이 필요(국회법 안건조정제)하다.윤석열 대통령이 금융투자소득세 폐지 추진 방침을 밝혔다. 소득세법에서 금투세 신설 조항은 2025년부터 효력을 발휘한다. 금투세 폐지는 법개정 사항이다. 21대 국회 의석구조라면 야당이 반대하면 불가능하다. 22대 국회에서 여당이 과반을 차지할 지는 알 수 없다. 세금 안 걷겠다는데 싫어할 이는 적다. 총선을 앞두고 야당에도 부담일 수 있다. 그런데 금투세 폐지 득실은 좀더 살필 필요가 있다.금투세는 연간 양도차익이 5000만원 이상일 때 적용된다. 한 해에 이 정도 수익을 낼 만한 돈을 굴리는 개인투자자는 전체의 0.11%(10년 평균 주식거래 내역 기준)에 불과하다. 개인투자자 세 부담을 줄여 증시를 활성화하겠다 것이 금투세 폐지 추진의 명분이다. 다수의 소액투자자는 과세 대상이 아니지만 큰손들이 세 부담으로 주식을 팔지 않으면 주가 하락이 제한돼 간접 혜택을 본다는 논리다.우리나라보다 훨씬 높은 밸류에이션을 인정받는 대부분의 선진국 증시에서도 금투세가 시행 중이다. 우리 증시의 개인투자자 비중이 선진국 대비 높은 편이지만 외국인이나 기관들보다는 증시 영향력이 약하다. 금투세 도입이 증권시장 활성화를 막는다고 할 수 있을까? 부자들이 세금 부담 때문에 주식을 팔아야 할 이유가 줄어들 수도 있지만, 세금 부담이 없으면 더 과감하게 차익을 실현할 수도 있다.굳이 세 부담을 피해 차익실현을 매년 나눠서 해야 할 유인이 사라지기 때문이다. 금투세 폐지로 장기투자 효과가 반감될 가능성 역시 존재하는 셈이다.소득이 있으면 세금이 부과되는 것이 현대 세제의 기본이다. 우리 소득세법은 대통령령으로 정하는 ‘대주주’가 아니면 상장주식 양도소득에 과세를 하지 않는다. 그나마 정부는 얼마전 시행령을 고쳐 ‘대주주’의 범위를 극도로 좁혔다. 증시 활성화가 명분이다. 금투세 신설은 3년 전 지금의 여야가 과세 형평을 위해 필요하다는데 합의한 결과다. 증시 활성화와 과세 형평 중 어느 쪽이 더 무거울까?보통 거래의 대가는 중개자에게 내는 수수료다. 우리나라 증권 거래에는 세금까지 붙는다. 세율(1만분의 35)은 시행령으로 낮출 수 있다. ‘자본시장 육성을 위하여 긴급히 필요하다고 인정될 때’다. 법 제정 이후 줄곧 탄력세율이 적용됐다. 납세 부담을 낮추는 조정이지만 ‘조세의 종목과 세율은 법률로 정한다’는 헌법 59조와 어울리지 않는다. 금투세를 만들면서 증권거래세는 없애기로 한 이유다.금투세는 상위 0.11%의 투자자에만 해당되지만 증권거래세는 모든 투자자가 낸다. 선진국에는 증권거래세가 없다. 우리 증시가 선진국과 차별화되려면 증권거래세도 없애야 한다. 금투세 백지화는 법 개정이 필요하지만 증권거래세를 ‘영(0)’으로 만드는 것은 시행령 개정 사항이다. 정부가 당장이라도 할 수 있다. 증시활성화가 중요하다면 연 6~9조원 정도의 세수 감소는 감수해야 하지 않을까?윤 대통령이 지난 연말 깜짝 발표한 재건축 안전진단 규제 완화도 경제적으로 엄청난 파장을 가져올 만한 사안이었다. 관련법(도시정비법)은 주요한 관련 기준을 모두 시행령에 위임하고 있다. 재개발과 재건축의 기준이 되는 노후·불량 건축물에 대한 판단이나 안전진단의 대상·기준·실시기관·지정절차 등이 모두 대통령령으로 정한다. 정부가 1월 중 관련 대책까지 내놓겠다고 공언한 배경이다.국회의원을 뽑는 총선에서는 법률 제·개정에 대한 정당의 입장이 경쟁하는 것이 당연하다. 대통령 선거에서 법 개정이 필요한 공약이 난무하는 것처럼, 총선을 앞두고 행정부가 법 개정이 필요한 사안을 약속하는 것도 어색하다. 권한 밖의 사항에 대한 약속은 공수표로 그칠 가능성이 크다. 그래도 팔은 안으로 굽으니 정부가 총선에서 여당을 돕고 싶다면 당장 할 수 있는 것부터 하는 것도 방법이다.\\n\\n\\n홍길용 kyhong@heraldcorp.com\\n\\n\\n기자 프로필\\n\\n\\n홍길용 기자\\n\\n\\n구독\\n\\n\\n구독중\\n\\n구독자 0', metadata={'source': 'https://n.news.naver.com/article/016/0002247281?sid=110', 'title': '소액투자자 위해 금투세 폐지? 증권거래세는? [홍길용의 화식열전]', 'language': 'ko'}), Document(page_content='홍길용 kyhong@heraldcorp.com\\n\\n\\n기자 프로필\\n\\n\\n홍길용 기자\\n\\n\\n구독\\n\\n\\n구독중\\n\\n구독자 0\\n\\n\\n응원수\\n0\\n\\n읽으면 돈 되면서 속 시원한, 하지만 남들은 잘 모르는 이야기\\n\\n\\n부동산PF 난리 났지만, 내년 증시는 괜찮을 이유…새해 경제전망② [홍길용의 화식열전]\\n\\n\\n결국 터진 부동산PF 부실…타격 클 금융회사는 어디? [홍길용의 화식열전]\\n\\n헤럴드경제의 구독 많은 기자를 구독해보세요!\\n\\n닫기\\n\\n\\nCopyright ⓒ 헤럴드경제. All rights reserved. 무단 전재 및 재배포 금지.\\n\\n \\n이 기사는 언론사에서 오피니언, 경제 섹션으로 분류했습니다.\\n\\n기사 섹션 분류 안내\\n기사의 섹션 정보는 해당 언론사의 분류를 따르고 있습니다. 언론사는 개별 기사를 2개 이상 섹션으로 중복 분류할 수 있습니다.\\n닫기\\n\\n구독\\n메인에서 바로 보는 언론사 편집 뉴스 지금 바로 구독해보세요!\\n\\n\\n구독중\\n메인에서 바로 보는 언론사 편집 뉴스 지금 바로 확인해보세요!\\n\\n밀리터리 전문 콘텐츠 ‘헤밀’\\nQR 코드를 클릭하면 크게 볼 수 있어요.\\n\\nQR을 촬영해보세요.\\n밀리터리 전문 콘텐츠 ‘헤밀’\\n\\n\\n닫기\\n\\n오늘의 운세 보고 완벽한 하루 만들기\\nQR 코드를 클릭하면 크게 볼 수 있어요.\\n\\nQR을 촬영해보세요.\\n오늘의 운세 보고 완벽한 하루 만들기\\n\\n\\n닫기\\n\\n\\n\\t\\t\\t주요뉴스해당 언론사에서 선정하며 언론사 페이지(아웃링크)로 이동해 볼 수 있습니다.\\n\\n\\n\"이선균 협박 20대 여성 다음 목표는 전혜진\"\\n백지영,당당한 성형 고백...\"내 얼굴 10억정도 들어가\"\\n강경준, 상간남 피소…소속사 \"상황파악 중\"\\n\"사위가 성인방송 강요\"…딸은 유서 남기고 극단선택\\n\\'故이선균 추모\\' 연기대상 불참한 유명 女배우, 봉사활동 포착\\n\\n\\n이 기사를 추천합니다\\n\\n\\n기사 추천은 24시간 내 50회까지 참여할 수 있습니다.\\n닫기\\n\\n\\n쏠쏠정보\\n0\\n\\n\\n흥미진진\\n0\\n\\n\\n공감백배\\n0\\n\\n\\n분석탁월\\n0\\n\\n\\n후속강추\\n0\\n\\n\\n \\n\\n\\n모두에게 보여주고 싶은 기사라면?beta\\n\\n이 기사를 추천합니다 버튼을 눌러주세요.  집계 기간 동안 추천을 많이 받은 기사는 네이버 자동 기사배열 영역에 추천 요소로 활용됩니다.\\n\\n레이어 닫기\\n\\n\\n \\n\\n연재\\n홍길용의 화식열전\\n구독 명\\n\\n구독\\n\\n\\n구독중\\n\\n\\n구독해주셔서 감사합니다\\n구독한 연재는 설정 페이지에서확인할 수 있습니다\\n닫기\\n\\n더보기\\n\\n소액투자자 위해 금투세 폐지? 증권거래세는?\\n\\n\\n부동산PF 난리 났지만, 내년 증시는 괜찮을 이유…새해 경제전망②\\n\\n\\n결국 터진 부동산PF 부실…타격 클 금융회사는 어디?\\n\\n\\n헤럴드경제 언론사홈 바로가기\\n\\n\\n \\n\\n언론사 구독 후 기사보기\\n\\n구독 없이 계속 보기\\n\\n기자 구독 후 기사보기\\n\\n구독 없이 계속 보기\\n\\n헤럴드경제 헤드라인\\n\\t\\t\\t\\t\\t\\n\\n\\n法 “도망 염려”…이재명 습격범 영장 2시간 만에 발부\\n법원이 이재명 더불어민주당 대표를 습격한 피의자 김모(66) 씨에게 구속영장을 발부했다. 4일 오후 4시 30분께 부산지방법원 성기준 영장전담 부장판사는 김씨에 대한 구속영장을 발부했다. 영장실질심사가 끝난 지 약 \\n\\n부산대 “천준호·정청래가 서울대 병원 이송 요청…서울대 브리핑 당혹”(종합)\\n부산대병원은 4일 이재명 더불어민주당 대표가 흉기피습을 당한 뒤 부산대 권역외상센터로 이송됐다가 응급의료헬기를 타고 서울대병원으로 이송된 것과 관련해 “환자 측과 보호자의 요청으로 이송한 것이지, 부산대 측의 전원요\\n\\n“누워서 유튜브 보다잤다” 이런 사람 많다 했더니…카카오 ‘발칵’ 뒤집혔다\\n유튜브가 카카오톡을 제치고 국내 모바일 애플리케이션 중 사용자 수 1위를 눈앞에 두고 있다. 한국은 해외 빅테크 기업 진출에도 국내 플랫폼이 점유율을 유지하는 몇 안 되는 국가였지만, 숏폼과 영상을 앞세운 유튜브에는\\n\\n브라이언 “年매출 157억, ‘플투 25년’보다 더 벌었다”…‘이 시장’ 파고들었더니\\n\\'플라이 투 더 스카이\\' 소속의 가수 브라이언이 \\'라이브커머스\\'를 통한 매출액을 공개했다. 지난 3일 방송된 MBC 예능 프로그램 \\'라디오스타\\'에 출연한 브라이언은 2년 전부터 한 대기업의 라이브커머스와 연이 닿아 \\n\\n\"연봉 1억원, 이런 밥상이 삼시세끼 공짜\" 난리난 이 회사, 어디길래?\\n“맥주 제공 PC방…알고보니 회사?” 매끼 1만5000원의 식사가 ‘공짜’다. 맥주도 마음껏 마실 수 있다. 또 PC방도 편하게 즐길 수 있다. 이는 문화·외식시설이 아닌 한 게임사의 직원 지원 제도들이다. 전세계 \\n\\n[영상] 49억 성북동 단독주택의 눈물…25억 반토막에도 파리 날린다 [부동산360]\\n‘원조 부촌’으로 꼽히는 서울 성북구 성북동에 위치한 고급 단독주택이 경매에 나왔지만 거듭되는 유찰로 가격이 ‘반토막’ 수준까지 떨어져 시장의 관심이 쏠린다. 권리상 하자가 없음에도 가격이 49억원에서 25억원까지 \\n\\n\\n이전 뉴스들 보기\\n\\n\\n3\\n다음 뉴스들 보기\\n\\n헤럴드경제가 이 기사의 댓글 정책을 결정합니다.\\n\\t\\t\\t\\t\\t\\n안내\\n댓글 정책 언론사별 선택제\\n섹션별로 기사의 댓글 제공여부와 정렬방식을 언론사가 직접 결정합니다. 기사 섹션 정보가정치를 포함하는 경우 정치섹션 정책이적용됩니다. 단, 운영규정에 따른삭제나 이용제한 조치는 네이버가 직접수행합니다.\\n레이어 닫기\\n\\n헤럴드경제 헤드라인\\n더보기\\n\\n法 “도망 염려”…이재명 습격범 영장 2시간 만에 발부\\n10분전\\n\\n부산대 “천준호·정청래가 서울대 병원 이송 요청…서울대 브리핑 당혹”(종합)\\n51분전\\n\\n“누워서 유튜브 보다잤다” 이런 사람 많다 했더니…카카오 ‘발칵’ 뒤집혔다\\n21시간전\\n\\n브라이언 “年매출 157억, ‘플투 25년’보다 더 벌었다”…‘이 시장’ 파고들었더니\\n7시간전\\n\\n\"연봉 1억원, 이런 밥상이 삼시세끼 공짜\" 난리난 이 회사, 어디길래?\\n22시간전\\n\\n[영상] 49억 성북동 단독주택의 눈물…25억 반토막에도 파리 날린다 [부동산360]\\n9분전\\n\\n\\n네이버 AI 뉴스 알고리즘\\n뉴스 추천 알고리즘이 궁금하다면?\\n\\n\\n헤럴드경제 랭킹 뉴스\\n오후 3시~4시까지 집계한 결과입니다.\\n오후 1시~4시까지 집계한 결과입니다.\\n더보기\\n더보기\\n\\n많이 본\\n\\n\\n댓글 많은\\n\\n1', metadata={'source': 'https://n.news.naver.com/article/016/0002247281?sid=110', 'title': '소액투자자 위해 금투세 폐지? 증권거래세는? [홍길용의 화식열전]', 'language': 'ko'}), Document(page_content='브라이언 “年매출 157억, ‘플투 25년’보다 더 벌었다”…‘이 시장’ 파고들었더니\\n7시간전\\n\\n\"연봉 1억원, 이런 밥상이 삼시세끼 공짜\" 난리난 이 회사, 어디길래?\\n22시간전\\n\\n[영상] 49억 성북동 단독주택의 눈물…25억 반토막에도 파리 날린다 [부동산360]\\n9분전\\n\\n\\n네이버 AI 뉴스 알고리즘\\n뉴스 추천 알고리즘이 궁금하다면?\\n\\n\\n헤럴드경제 랭킹 뉴스\\n오후 3시~4시까지 집계한 결과입니다.\\n오후 1시~4시까지 집계한 결과입니다.\\n더보기\\n더보기\\n\\n많이 본\\n\\n\\n댓글 많은\\n\\n1\\n\\n\"연봉 1억원, 이런 밥상이 삼시세끼 공짜\" 난리난 이 회사, 어디길래?\\n22시간전\\n\\n\\n2\\n\\n“누워서 유튜브 보다잤다” 이런 사람 많다 했더니…카카오 ‘발칵’ 뒤집혔다\\n21시간전\\n\\n\\n3\\n\\n브라이언 “年매출 157억, ‘플투 25년’보다 더 벌었다”…‘이 시장’ 파고들었더니\\n7시간전\\n\\n\\n4\\n\\n다방 여주인 살해하고 12년 활보한 \\'그놈\\' 드디어 잡혔다\\n6시간전\\n\\n\\n5\\n\\n이재명 습격 피의자 김씨 “경찰에 변명문 8매 냈다. 참고해 달라” [영상]\\n2시간전\\n\\n\\n1\\n\\n\"연봉 1억원, 이런 밥상이 삼시세끼 공짜\" 난리난 이 회사, 어디길래?\\n22시간전\\n\\n\\n2\\n\\n“이러면 아이폰 누가 사?” 40만원 ‘파격’ 갤럭시 나온다…‘갤럭시 A25 5G’ 출시\\n7시간전\\n\\n\\n3\\n\\n서울대 의료진 “이재명 순조롭게 회복… 부산대 전원요청 있었다”\\n4시간전\\n\\n\\n4\\n\\n“아프면 서울로”?…이재명 헬기 이송에 부산시민·의료계 ‘원성’\\n7시간전\\n\\n\\n5\\n\\n서울대 의료진 “이재명 대표 순조롭게 회복중…경과 지켜봐야”\\n5시간전\\n\\n \\n\\n 함께 볼만한 기자\\n안내\\n\\n최근 일주일 이내 업데이트된 기자 중에서 무작위 순서로 노출합니다.\\n닫기\\n\\n\\n비슷한 주제\\n\\n\\n구독자 많은\\n\\n이정은 기자\\n\\n\\n구독\\n구독중\\n\\n구독해주셔서 감사합니다\\n\\n이정은 기자의 기사는언론사별에서 볼 수 있습니다\\n\\n닫기\\n\\n\\n언론사도 함께 구독해 보세요.\\n\\n\\n\\t\\t\\t\\t\\t\\t\\t\\t\\t\\t\\t\\t\\t\\t\\t\\t\\t\\t\\t구독\\n\\t\\t\\t\\t\\t\\t\\t\\t\\t\\t\\t\\t\\t\\t\\t\\t\\t\\t\\n\\n\\n\\t\\t\\t\\t\\t\\t\\t\\t\\t\\t\\t\\t\\t\\t\\t\\t\\t\\t언론사를 함께 구독중입니다.\\n\\t\\t\\t\\t\\t\\t\\t\\t\\t\\t\\t\\t\\t\\t\\t\\t\\t\\n\\n\\n[횡설수설/이정은]뉴욕 타임스스퀘어처럼… 광화문광장의 ‘디지털 변신’\\n동아일보\\n6일전\\n\\n\\n박수련 기자\\n\\n\\n구독\\n구독중\\n\\n구독해주셔서 감사합니다\\n\\n박수련 기자의 기사는언론사별에서 볼 수 있습니다\\n\\n닫기\\n\\n\\n언론사도 함께 구독해 보세요.\\n\\n\\n\\t\\t\\t\\t\\t\\t\\t\\t\\t\\t\\t\\t\\t\\t\\t\\t\\t\\t\\t구독\\n\\t\\t\\t\\t\\t\\t\\t\\t\\t\\t\\t\\t\\t\\t\\t\\t\\t\\t\\n\\n\\n\\t\\t\\t\\t\\t\\t\\t\\t\\t\\t\\t\\t\\t\\t\\t\\t\\t\\t언론사를 함께 구독중입니다.\\n\\t\\t\\t\\t\\t\\t\\t\\t\\t\\t\\t\\t\\t\\t\\t\\t\\t\\n\\n\\n[노트북을 열며] 한국 대기업들의 패밀리 스캔들\\n중앙일보\\n7일전\\n\\n\\n한준규 기자\\n\\n\\n구독\\n구독중\\n\\n구독해주셔서 감사합니다\\n\\n한준규 기자의 기사는언론사별에서 볼 수 있습니다\\n\\n닫기\\n\\n\\n언론사도 함께 구독해 보세요.\\n\\n\\n\\t\\t\\t\\t\\t\\t\\t\\t\\t\\t\\t\\t\\t\\t\\t\\t\\t\\t\\t구독\\n\\t\\t\\t\\t\\t\\t\\t\\t\\t\\t\\t\\t\\t\\t\\t\\t\\t\\t\\n\\n\\n\\t\\t\\t\\t\\t\\t\\t\\t\\t\\t\\t\\t\\t\\t\\t\\t\\t\\t언론사를 함께 구독중입니다.\\n\\t\\t\\t\\t\\t\\t\\t\\t\\t\\t\\t\\t\\t\\t\\t\\t\\t\\n\\n\\n[메아리] 색깔을 드러내라\\n한국일보\\n5일전\\n\\n\\n이수영 기자\\n\\n\\n구독\\n구독중\\n\\n구독해주셔서 감사합니다\\n\\n이수영 기자의 기사는언론사별에서 볼 수 있습니다\\n\\n닫기\\n\\n\\n언론사도 함께 구독해 보세요.\\n\\n\\n\\t\\t\\t\\t\\t\\t\\t\\t\\t\\t\\t\\t\\t\\t\\t\\t\\t\\t\\t구독\\n\\t\\t\\t\\t\\t\\t\\t\\t\\t\\t\\t\\t\\t\\t\\t\\t\\t\\t\\n\\n\\n\\t\\t\\t\\t\\t\\t\\t\\t\\t\\t\\t\\t\\t\\t\\t\\t\\t\\t언론사를 함께 구독중입니다.\\n\\t\\t\\t\\t\\t\\t\\t\\t\\t\\t\\t\\t\\t\\t\\t\\t\\t\\n\\n\\n[명경대] 그래도 선생님\\n강원도민일보\\n6일전\\n\\n\\n김선걸 기자\\n\\n\\n구독\\n구독중\\n\\n구독해주셔서 감사합니다\\n\\n김선걸 기자의 기사는언론사별에서 볼 수 있습니다\\n\\n닫기\\n\\n\\n언론사도 함께 구독해 보세요.\\n\\n\\n\\t\\t\\t\\t\\t\\t\\t\\t\\t\\t\\t\\t\\t\\t\\t\\t\\t\\t\\t구독\\n\\t\\t\\t\\t\\t\\t\\t\\t\\t\\t\\t\\t\\t\\t\\t\\t\\t\\t\\n\\n\\n\\t\\t\\t\\t\\t\\t\\t\\t\\t\\t\\t\\t\\t\\t\\t\\t\\t\\t언론사를 함께 구독중입니다.\\n\\t\\t\\t\\t\\t\\t\\t\\t\\t\\t\\t\\t\\t\\t\\t\\t\\t\\n\\n\\n전설이길 사양한 아재들의 야구 [김선걸 칼럼]\\n매경이코노미\\n2일전\\n\\n\\n김규태 기자\\n\\n\\n구독\\n구독중\\n\\n구독해주셔서 감사합니다\\n\\n김규태 기자의 기사는언론사별에서 볼 수 있습니다\\n\\n닫기\\n\\n\\n언론사도 함께 구독해 보세요.\\n\\n\\n\\t\\t\\t\\t\\t\\t\\t\\t\\t\\t\\t\\t\\t\\t\\t\\t\\t\\t\\t구독\\n\\t\\t\\t\\t\\t\\t\\t\\t\\t\\t\\t\\t\\t\\t\\t\\t\\t\\t\\n\\n\\n\\t\\t\\t\\t\\t\\t\\t\\t\\t\\t\\t\\t\\t\\t\\t\\t\\t\\t언론사를 함께 구독중입니다.\\n\\t\\t\\t\\t\\t\\t\\t\\t\\t\\t\\t\\t\\t\\t\\t\\t\\t\\n\\n\\n[지지대] 모두를 바꿀 121번의 ‘작심삼일’\\n경기일보\\n13시간전\\n\\n\\n서승욱 기자\\n\\n\\n구독\\n구독중\\n\\n구독해주셔서 감사합니다\\n\\n서승욱 기자의 기사는언론사별에서 볼 수 있습니다\\n\\n닫기\\n\\n\\n언론사도 함께 구독해 보세요.\\n\\n\\n\\t\\t\\t\\t\\t\\t\\t\\t\\t\\t\\t\\t\\t\\t\\t\\t\\t\\t\\t구독\\n\\t\\t\\t\\t\\t\\t\\t\\t\\t\\t\\t\\t\\t\\t\\t\\t\\t\\t\\n\\n\\n\\t\\t\\t\\t\\t\\t\\t\\t\\t\\t\\t\\t\\t\\t\\t\\t\\t\\t언론사를 함께 구독중입니다.\\n\\t\\t\\t\\t\\t\\t\\t\\t\\t\\t\\t\\t\\t\\t\\t\\t\\t\\n\\n\\n[서승욱의 시시각각] 한동훈과 서초동 사투리\\n중앙일보\\n2일전\\n\\n\\n박석원 기자\\n\\n\\n구독\\n구독중\\n\\n구독해주셔서 감사합니다\\n\\n박석원 기자의 기사는언론사별에서 볼 수 있습니다\\n\\n닫기\\n\\n\\n언론사도 함께 구독해 보세요.\\n\\n\\n\\t\\t\\t\\t\\t\\t\\t\\t\\t\\t\\t\\t\\t\\t\\t\\t\\t\\t\\t구독\\n\\t\\t\\t\\t\\t\\t\\t\\t\\t\\t\\t\\t\\t\\t\\t\\t\\t\\t\\n\\n\\n\\t\\t\\t\\t\\t\\t\\t\\t\\t\\t\\t\\t\\t\\t\\t\\t\\t\\t언론사를 함께 구독중입니다.\\n\\t\\t\\t\\t\\t\\t\\t\\t\\t\\t\\t\\t\\t\\t\\t\\t\\t\\n\\n\\n정세균 \"이 대표에게 \\'혁신 기회\\' 버스 지나간 뒤 손들어봤자 소용없으니 \\'결단\\'하라 했다\"[정치행간]\\n한국일보\\n22시간전\\n\\n\\n신준봉 기자\\n\\n\\n구독\\n구독중\\n\\n구독해주셔서 감사합니다\\n\\n신준봉 기자의 기사는언론사별에서 볼 수 있습니다\\n\\n닫기\\n\\n\\n언론사도 함께 구독해 보세요.\\n\\n\\n\\t\\t\\t\\t\\t\\t\\t\\t\\t\\t\\t\\t\\t\\t\\t\\t\\t\\t\\t구독\\n\\t\\t\\t\\t\\t\\t\\t\\t\\t\\t\\t\\t\\t\\t\\t\\t\\t\\t\\n\\n\\n\\t\\t\\t\\t\\t\\t\\t\\t\\t\\t\\t\\t\\t\\t\\t\\t\\t\\t언론사를 함께 구독중입니다.\\n\\t\\t\\t\\t\\t\\t\\t\\t\\t\\t\\t\\t\\t\\t\\t\\t\\t\\n\\n\\n[신준봉의 시시각각] 출판·독서 위축, 해법은 있나\\n중앙일보\\n6일전\\n\\n\\n전석운 기자\\n\\n\\n구독\\n구독중\\n\\n구독해주셔서 감사합니다\\n\\n전석운 기자의 기사는언론사별에서 볼 수 있습니다\\n\\n닫기\\n\\n\\n언론사도 함께 구독해 보세요.\\n\\n\\n\\t\\t\\t\\t\\t\\t\\t\\t\\t\\t\\t\\t\\t\\t\\t\\t\\t\\t\\t구독', metadata={'source': 'https://n.news.naver.com/article/016/0002247281?sid=110', 'title': '소액투자자 위해 금투세 폐지? 증권거래세는? [홍길용의 화식열전]', 'language': 'ko'}), Document(page_content='닫기\\n\\n\\n언론사도 함께 구독해 보세요.\\n\\n\\n\\t\\t\\t\\t\\t\\t\\t\\t\\t\\t\\t\\t\\t\\t\\t\\t\\t\\t\\t구독\\n\\t\\t\\t\\t\\t\\t\\t\\t\\t\\t\\t\\t\\t\\t\\t\\t\\t\\t\\n\\n\\n\\t\\t\\t\\t\\t\\t\\t\\t\\t\\t\\t\\t\\t\\t\\t\\t\\t\\t언론사를 함께 구독중입니다.\\n\\t\\t\\t\\t\\t\\t\\t\\t\\t\\t\\t\\t\\t\\t\\t\\t\\t\\n\\n\\n[신준봉의 시시각각] 출판·독서 위축, 해법은 있나\\n중앙일보\\n6일전\\n\\n\\n전석운 기자\\n\\n\\n구독\\n구독중\\n\\n구독해주셔서 감사합니다\\n\\n전석운 기자의 기사는언론사별에서 볼 수 있습니다\\n\\n닫기\\n\\n\\n언론사도 함께 구독해 보세요.\\n\\n\\n\\t\\t\\t\\t\\t\\t\\t\\t\\t\\t\\t\\t\\t\\t\\t\\t\\t\\t\\t구독\\n\\t\\t\\t\\t\\t\\t\\t\\t\\t\\t\\t\\t\\t\\t\\t\\t\\t\\t\\n\\n\\n\\t\\t\\t\\t\\t\\t\\t\\t\\t\\t\\t\\t\\t\\t\\t\\t\\t\\t언론사를 함께 구독중입니다.\\n\\t\\t\\t\\t\\t\\t\\t\\t\\t\\t\\t\\t\\t\\t\\t\\t\\t\\n\\n\\n[전석운 칼럼] 지금이라도 특별감찰관을 임명하는 게 옳다\\n국민일보\\n1일전\\n\\n\\n김은지 기자\\n\\n\\n구독\\n구독중\\n\\n구독해주셔서 감사합니다\\n\\n김은지 기자의 기사는언론사별에서 볼 수 있습니다\\n\\n닫기\\n\\n\\n언론사도 함께 구독해 보세요.\\n\\n\\n\\t\\t\\t\\t\\t\\t\\t\\t\\t\\t\\t\\t\\t\\t\\t\\t\\t\\t\\t구독\\n\\t\\t\\t\\t\\t\\t\\t\\t\\t\\t\\t\\t\\t\\t\\t\\t\\t\\t\\n\\n\\n\\t\\t\\t\\t\\t\\t\\t\\t\\t\\t\\t\\t\\t\\t\\t\\t\\t\\t언론사를 함께 구독중입니다.\\n\\t\\t\\t\\t\\t\\t\\t\\t\\t\\t\\t\\t\\t\\t\\t\\t\\t\\n\\n\\n‘김건희 특검법’ 정부 이송, 거부권 강행할까? [김은지의 뉴스IN]\\n시사IN\\n1시간전\\n\\n\\n김민철 기자\\n\\n\\n구독\\n구독중\\n\\n구독해주셔서 감사합니다\\n\\n김민철 기자의 기사는언론사별에서 볼 수 있습니다\\n\\n닫기\\n\\n\\n언론사도 함께 구독해 보세요.\\n\\n\\n\\t\\t\\t\\t\\t\\t\\t\\t\\t\\t\\t\\t\\t\\t\\t\\t\\t\\t\\t구독\\n\\t\\t\\t\\t\\t\\t\\t\\t\\t\\t\\t\\t\\t\\t\\t\\t\\t\\t\\n\\n\\n\\t\\t\\t\\t\\t\\t\\t\\t\\t\\t\\t\\t\\t\\t\\t\\t\\t\\t언론사를 함께 구독중입니다.\\n\\t\\t\\t\\t\\t\\t\\t\\t\\t\\t\\t\\t\\t\\t\\t\\t\\t\\n\\n\\n[만물상] 세계의 관심사 된 한반도 야경 사진\\n조선일보\\n2일전\\n\\n\\n백강녕 기자\\n\\n\\n구독\\n구독중\\n\\n구독해주셔서 감사합니다\\n\\n백강녕 기자의 기사는언론사별에서 볼 수 있습니다\\n\\n닫기\\n\\n\\n언론사도 함께 구독해 보세요.\\n\\n\\n\\t\\t\\t\\t\\t\\t\\t\\t\\t\\t\\t\\t\\t\\t\\t\\t\\t\\t\\t구독\\n\\t\\t\\t\\t\\t\\t\\t\\t\\t\\t\\t\\t\\t\\t\\t\\t\\t\\t\\n\\n\\n\\t\\t\\t\\t\\t\\t\\t\\t\\t\\t\\t\\t\\t\\t\\t\\t\\t\\t언론사를 함께 구독중입니다.\\n\\t\\t\\t\\t\\t\\t\\t\\t\\t\\t\\t\\t\\t\\t\\t\\t\\t\\n\\n\\n[시론]이제 다시 일본을 공부해야 한다\\n아시아경제\\n8시간전\\n\\n\\n이노성 기자\\n\\n\\n구독\\n구독중\\n\\n구독해주셔서 감사합니다\\n\\n이노성 기자의 기사는언론사별에서 볼 수 있습니다\\n\\n닫기\\n\\n\\n언론사도 함께 구독해 보세요.\\n\\n\\n\\t\\t\\t\\t\\t\\t\\t\\t\\t\\t\\t\\t\\t\\t\\t\\t\\t\\t\\t구독\\n\\t\\t\\t\\t\\t\\t\\t\\t\\t\\t\\t\\t\\t\\t\\t\\t\\t\\t\\n\\n\\n\\t\\t\\t\\t\\t\\t\\t\\t\\t\\t\\t\\t\\t\\t\\t\\t\\t\\t언론사를 함께 구독중입니다.\\n\\t\\t\\t\\t\\t\\t\\t\\t\\t\\t\\t\\t\\t\\t\\t\\t\\t\\n\\n\\n[도청도설] 비극의 블록버스터\\n국제신문\\n3일전\\n\\n\\n노원명 기자\\n\\n\\n구독\\n구독중\\n\\n구독해주셔서 감사합니다\\n\\n노원명 기자의 기사는언론사별에서 볼 수 있습니다\\n\\n닫기\\n\\n\\n언론사도 함께 구독해 보세요.\\n\\n\\n\\t\\t\\t\\t\\t\\t\\t\\t\\t\\t\\t\\t\\t\\t\\t\\t\\t\\t\\t구독\\n\\t\\t\\t\\t\\t\\t\\t\\t\\t\\t\\t\\t\\t\\t\\t\\t\\t\\t\\n\\n\\n\\t\\t\\t\\t\\t\\t\\t\\t\\t\\t\\t\\t\\t\\t\\t\\t\\t\\t언론사를 함께 구독중입니다.\\n\\t\\t\\t\\t\\t\\t\\t\\t\\t\\t\\t\\t\\t\\t\\t\\t\\t\\n\\n\\n[노원명칼럼] 교육교부금을 저출산에? 교육혁명에 써야\\n매일경제\\n1일전\\n\\n\\n이원율 기자\\n\\n\\n구독\\n구독중\\n\\n구독해주셔서 감사합니다\\n\\n이원율 기자의 기사는언론사별에서 볼 수 있습니다\\n\\n닫기\\n\\n\\n언론사도 함께 구독해 보세요.\\n\\n\\n\\t\\t\\t\\t\\t\\t\\t\\t\\t\\t\\t\\t\\t\\t\\t\\t\\t\\t\\t구독\\n\\t\\t\\t\\t\\t\\t\\t\\t\\t\\t\\t\\t\\t\\t\\t\\t\\t\\t\\n\\n\\n\\t\\t\\t\\t\\t\\t\\t\\t\\t\\t\\t\\t\\t\\t\\t\\t\\t\\t언론사를 함께 구독중입니다.\\n\\t\\t\\t\\t\\t\\t\\t\\t\\t\\t\\t\\t\\t\\t\\t\\t\\t\\n\\n\\n‘이선균 협박’ 20대女, 알고보니 유흥업소실장 해킹범과 동일인물?…경찰 판단\\n헤럴드경제\\n1시간전\\n\\n\\n권준영 기자\\n\\n\\n구독\\n구독중\\n\\n구독해주셔서 감사합니다\\n\\n권준영 기자의 기사는언론사별에서 볼 수 있습니다\\n\\n닫기\\n\\n\\n언론사도 함께 구독해 보세요.\\n\\n\\n\\t\\t\\t\\t\\t\\t\\t\\t\\t\\t\\t\\t\\t\\t\\t\\t\\t\\t\\t구독\\n\\t\\t\\t\\t\\t\\t\\t\\t\\t\\t\\t\\t\\t\\t\\t\\t\\t\\t\\n\\n\\n\\t\\t\\t\\t\\t\\t\\t\\t\\t\\t\\t\\t\\t\\t\\t\\t\\t\\t언론사를 함께 구독중입니다.\\n\\t\\t\\t\\t\\t\\t\\t\\t\\t\\t\\t\\t\\t\\t\\t\\t\\t\\n\\n\\n이경 폭탄발언 “이재명 대통령 만들어야”…전여옥 “이런 이경이 ‘민주당의 미래?’”\\n디지털타임스\\n1일전\\n\\n\\n김명일 기자\\n\\n\\n구독\\n구독중\\n\\n구독해주셔서 감사합니다\\n\\n김명일 기자의 기사는언론사별에서 볼 수 있습니다\\n\\n닫기\\n\\n\\n언론사도 함께 구독해 보세요.\\n\\n\\n\\t\\t\\t\\t\\t\\t\\t\\t\\t\\t\\t\\t\\t\\t\\t\\t\\t\\t\\t구독\\n\\t\\t\\t\\t\\t\\t\\t\\t\\t\\t\\t\\t\\t\\t\\t\\t\\t\\t\\n\\n\\n\\t\\t\\t\\t\\t\\t\\t\\t\\t\\t\\t\\t\\t\\t\\t\\t\\t\\t언론사를 함께 구독중입니다.\\n\\t\\t\\t\\t\\t\\t\\t\\t\\t\\t\\t\\t\\t\\t\\t\\t\\t\\n\\n\\n친명 안민석 “수술하는 이재명 공격 못해…이낙연 신당 바람 잦아들 것”\\n조선일보\\n1일전\\n\\n\\n남형도 기자\\n\\n\\n구독\\n구독중\\n\\n구독해주셔서 감사합니다\\n\\n남형도 기자의 기사는언론사별에서 볼 수 있습니다\\n\\n닫기\\n\\n\\n언론사도 함께 구독해 보세요.\\n\\n\\n\\t\\t\\t\\t\\t\\t\\t\\t\\t\\t\\t\\t\\t\\t\\t\\t\\t\\t\\t구독\\n\\t\\t\\t\\t\\t\\t\\t\\t\\t\\t\\t\\t\\t\\t\\t\\t\\t\\t\\n\\n\\n\\t\\t\\t\\t\\t\\t\\t\\t\\t\\t\\t\\t\\t\\t\\t\\t\\t\\t언론사를 함께 구독중입니다.\\n\\t\\t\\t\\t\\t\\t\\t\\t\\t\\t\\t\\t\\t\\t\\t\\t\\t\\n\\n\\n매일 때리고 빼앗고, 지옥은 \\'아빠\\'…그녀의 가정폭력 탈출기\\n머니투데이\\n1일전\\n\\n\\n박효주 기자\\n\\n\\n구독\\n구독중\\n\\n구독해주셔서 감사합니다\\n\\n박효주 기자의 기사는언론사별에서 볼 수 있습니다\\n\\n닫기\\n\\n\\n언론사도 함께 구독해 보세요.\\n\\n\\n\\t\\t\\t\\t\\t\\t\\t\\t\\t\\t\\t\\t\\t\\t\\t\\t\\t\\t\\t구독\\n\\t\\t\\t\\t\\t\\t\\t\\t\\t\\t\\t\\t\\t\\t\\t\\t\\t\\t\\n\\n\\n\\t\\t\\t\\t\\t\\t\\t\\t\\t\\t\\t\\t\\t\\t\\t\\t\\t\\t언론사를 함께 구독중입니다.\\n\\t\\t\\t\\t\\t\\t\\t\\t\\t\\t\\t\\t\\t\\t\\t\\t\\t\\n\\n\\n\"두 정거장 가는데 1시간 반\"…지옥의 퇴근길, 정체 시작점 보니\\n머니투데이\\n1시간전\\n\\n\\n이가영 기자\\n\\n\\n구독\\n구독중\\n\\n구독해주셔서 감사합니다\\n\\n이가영 기자의 기사는언론사별에서 볼 수 있습니다\\n\\n닫기\\n\\n\\n언론사도 함께 구독해 보세요.\\n\\n\\n\\t\\t\\t\\t\\t\\t\\t\\t\\t\\t\\t\\t\\t\\t\\t\\t\\t\\t\\t구독\\n\\t\\t\\t\\t\\t\\t\\t\\t\\t\\t\\t\\t\\t\\t\\t\\t\\t\\t\\n\\n\\n\\t\\t\\t\\t\\t\\t\\t\\t\\t\\t\\t\\t\\t\\t\\t\\t\\t\\t언론사를 함께 구독중입니다.\\n\\t\\t\\t\\t\\t\\t\\t\\t\\t\\t\\t\\t\\t\\t\\t\\t\\t\\n\\n\\n부산대병원 “우린 최종의료기관… 헬기로 딴 병원 간 건 이재명이 처음”\\n조선일보\\n3시간전\\n\\n\\n김영필 기자\\n\\n\\n구독\\n구독중\\n\\n구독해주셔서 감사합니다\\n\\n김영필 기자의 기사는언론사별에서 볼 수 있습니다\\n\\n닫기\\n\\n\\n언론사도 함께 구독해 보세요.\\n\\n\\n\\t\\t\\t\\t\\t\\t\\t\\t\\t\\t\\t\\t\\t\\t\\t\\t\\t\\t\\t구독', metadata={'source': 'https://n.news.naver.com/article/016/0002247281?sid=110', 'title': '소액투자자 위해 금투세 폐지? 증권거래세는? [홍길용의 화식열전]', 'language': 'ko'}), Document(page_content='닫기\\n\\n\\n언론사도 함께 구독해 보세요.\\n\\n\\n\\t\\t\\t\\t\\t\\t\\t\\t\\t\\t\\t\\t\\t\\t\\t\\t\\t\\t\\t구독\\n\\t\\t\\t\\t\\t\\t\\t\\t\\t\\t\\t\\t\\t\\t\\t\\t\\t\\t\\n\\n\\n\\t\\t\\t\\t\\t\\t\\t\\t\\t\\t\\t\\t\\t\\t\\t\\t\\t\\t언론사를 함께 구독중입니다.\\n\\t\\t\\t\\t\\t\\t\\t\\t\\t\\t\\t\\t\\t\\t\\t\\t\\t\\n\\n\\n부산대병원 “우린 최종의료기관… 헬기로 딴 병원 간 건 이재명이 처음”\\n조선일보\\n3시간전\\n\\n\\n김영필 기자\\n\\n\\n구독\\n구독중\\n\\n구독해주셔서 감사합니다\\n\\n김영필 기자의 기사는언론사별에서 볼 수 있습니다\\n\\n닫기\\n\\n\\n언론사도 함께 구독해 보세요.\\n\\n\\n\\t\\t\\t\\t\\t\\t\\t\\t\\t\\t\\t\\t\\t\\t\\t\\t\\t\\t\\t구독\\n\\t\\t\\t\\t\\t\\t\\t\\t\\t\\t\\t\\t\\t\\t\\t\\t\\t\\t\\n\\n\\n\\t\\t\\t\\t\\t\\t\\t\\t\\t\\t\\t\\t\\t\\t\\t\\t\\t\\t언론사를 함께 구독중입니다.\\n\\t\\t\\t\\t\\t\\t\\t\\t\\t\\t\\t\\t\\t\\t\\t\\t\\t\\n\\n\\n\"청룡처럼 힘차게 비상하라\" 2024 증시 대동제[사진]\\n서울경제\\n1일전\\n\\n\\n최재원 기자\\n\\n\\n구독\\n구독중\\n\\n구독해주셔서 감사합니다\\n\\n최재원 기자의 기사는언론사별에서 볼 수 있습니다\\n\\n닫기\\n\\n\\n언론사도 함께 구독해 보세요.\\n\\n\\n\\t\\t\\t\\t\\t\\t\\t\\t\\t\\t\\t\\t\\t\\t\\t\\t\\t\\t\\t구독\\n\\t\\t\\t\\t\\t\\t\\t\\t\\t\\t\\t\\t\\t\\t\\t\\t\\t\\t\\n\\n\\n\\t\\t\\t\\t\\t\\t\\t\\t\\t\\t\\t\\t\\t\\t\\t\\t\\t\\t언론사를 함께 구독중입니다.\\n\\t\\t\\t\\t\\t\\t\\t\\t\\t\\t\\t\\t\\t\\t\\t\\t\\t\\n\\n\\n“20년전 대학가 휩쓸던 그것” 전설의 가성비 위스키가 돌아왔다\\n매일경제\\n1일전\\n\\n\\n김원장 기자\\n\\n\\n구독\\n구독중\\n\\n구독해주셔서 감사합니다\\n\\n김원장 기자의 기사는언론사별에서 볼 수 있습니다\\n\\n닫기\\n\\n\\n언론사도 함께 구독해 보세요.\\n\\n\\n\\t\\t\\t\\t\\t\\t\\t\\t\\t\\t\\t\\t\\t\\t\\t\\t\\t\\t\\t구독\\n\\t\\t\\t\\t\\t\\t\\t\\t\\t\\t\\t\\t\\t\\t\\t\\t\\t\\t\\n\\n\\n\\t\\t\\t\\t\\t\\t\\t\\t\\t\\t\\t\\t\\t\\t\\t\\t\\t\\t언론사를 함께 구독중입니다.\\n\\t\\t\\t\\t\\t\\t\\t\\t\\t\\t\\t\\t\\t\\t\\t\\t\\t\\n\\n\\n‘1주택자가 시골 집 하나 더 사도 1세대 1주택 혜택’…모르면 손해보는 새해 경제 정책들\\nKBS\\n4시간전\\n\\n\\n이해준 기자\\n\\n\\n구독\\n구독중\\n\\n구독해주셔서 감사합니다\\n\\n이해준 기자의 기사는언론사별에서 볼 수 있습니다\\n\\n닫기\\n\\n\\n언론사도 함께 구독해 보세요.\\n\\n\\n\\t\\t\\t\\t\\t\\t\\t\\t\\t\\t\\t\\t\\t\\t\\t\\t\\t\\t\\t구독\\n\\t\\t\\t\\t\\t\\t\\t\\t\\t\\t\\t\\t\\t\\t\\t\\t\\t\\t\\n\\n\\n\\t\\t\\t\\t\\t\\t\\t\\t\\t\\t\\t\\t\\t\\t\\t\\t\\t\\t언론사를 함께 구독중입니다.\\n\\t\\t\\t\\t\\t\\t\\t\\t\\t\\t\\t\\t\\t\\t\\t\\t\\t\\n\\n\\n中 전투기, 美 폭격기 3m 근접 후 석 달째 위험 행동 잠잠\\n중앙일보\\n15시간전\\n\\n\\n이로원 기자\\n\\n\\n구독\\n구독중\\n\\n구독해주셔서 감사합니다\\n\\n이로원 기자의 기사는언론사별에서 볼 수 있습니다\\n\\n닫기\\n\\n\\n언론사도 함께 구독해 보세요.\\n\\n\\n\\t\\t\\t\\t\\t\\t\\t\\t\\t\\t\\t\\t\\t\\t\\t\\t\\t\\t\\t구독\\n\\t\\t\\t\\t\\t\\t\\t\\t\\t\\t\\t\\t\\t\\t\\t\\t\\t\\t\\n\\n\\n\\t\\t\\t\\t\\t\\t\\t\\t\\t\\t\\t\\t\\t\\t\\t\\t\\t\\t언론사를 함께 구독중입니다.\\n\\t\\t\\t\\t\\t\\t\\t\\t\\t\\t\\t\\t\\t\\t\\t\\t\\t\\n\\n\\n“50번 싼 건 ‘오줌’이라던 정명석, 판결문 받아 읽어보니…”\\n이데일리\\n2시간전\\n\\n\\n김태원 기자\\n\\n\\n구독\\n구독중\\n\\n구독해주셔서 감사합니다\\n\\n김태원 기자의 기사는언론사별에서 볼 수 있습니다\\n\\n닫기\\n\\n\\n언론사도 함께 구독해 보세요.\\n\\n\\n\\t\\t\\t\\t\\t\\t\\t\\t\\t\\t\\t\\t\\t\\t\\t\\t\\t\\t\\t구독\\n\\t\\t\\t\\t\\t\\t\\t\\t\\t\\t\\t\\t\\t\\t\\t\\t\\t\\t\\n\\n\\n\\t\\t\\t\\t\\t\\t\\t\\t\\t\\t\\t\\t\\t\\t\\t\\t\\t\\t언론사를 함께 구독중입니다.\\n\\t\\t\\t\\t\\t\\t\\t\\t\\t\\t\\t\\t\\t\\t\\t\\t\\t\\n\\n\\n\\'한 달 수입이 은행원 연봉 4배\\' 유튜버의 사연…\"직원도 800만원 벌어가요\"\\n서울경제\\n1시간전\\n\\n\\n최기성 기자\\n\\n\\n구독\\n구독중\\n\\n구독해주셔서 감사합니다\\n\\n최기성 기자의 기사는언론사별에서 볼 수 있습니다\\n\\n닫기\\n\\n\\n언론사도 함께 구독해 보세요.\\n\\n\\n\\t\\t\\t\\t\\t\\t\\t\\t\\t\\t\\t\\t\\t\\t\\t\\t\\t\\t\\t구독\\n\\t\\t\\t\\t\\t\\t\\t\\t\\t\\t\\t\\t\\t\\t\\t\\t\\t\\t\\n\\n\\n\\t\\t\\t\\t\\t\\t\\t\\t\\t\\t\\t\\t\\t\\t\\t\\t\\t\\t언론사를 함께 구독중입니다.\\n\\t\\t\\t\\t\\t\\t\\t\\t\\t\\t\\t\\t\\t\\t\\t\\t\\t\\n\\n\\n한국에선 정말 ‘나쁜 아빠車’…옆집 아빠 질투유발, 타는순간 ‘강한 남자’ [카슐랭]\\n매일경제\\n22시간전\\n\\n\\n성수영 기자\\n\\n\\n구독\\n구독중\\n\\n구독해주셔서 감사합니다\\n\\n성수영 기자의 기사는언론사별에서 볼 수 있습니다\\n\\n닫기\\n\\n\\n언론사도 함께 구독해 보세요.\\n\\n\\n\\t\\t\\t\\t\\t\\t\\t\\t\\t\\t\\t\\t\\t\\t\\t\\t\\t\\t\\t구독\\n\\t\\t\\t\\t\\t\\t\\t\\t\\t\\t\\t\\t\\t\\t\\t\\t\\t\\t\\n\\n\\n\\t\\t\\t\\t\\t\\t\\t\\t\\t\\t\\t\\t\\t\\t\\t\\t\\t\\t언론사를 함께 구독중입니다.\\n\\t\\t\\t\\t\\t\\t\\t\\t\\t\\t\\t\\t\\t\\t\\t\\t\\t\\n\\n\\n\\'이건희 컬렉션\\' 전체 목록 이달 나온다\\n한국경제\\n1일전\\n\\n\\n문영진 기자\\n\\n\\n구독\\n구독중\\n\\n구독해주셔서 감사합니다\\n\\n문영진 기자의 기사는언론사별에서 볼 수 있습니다\\n\\n닫기\\n\\n\\n언론사도 함께 구독해 보세요.\\n\\n\\n\\t\\t\\t\\t\\t\\t\\t\\t\\t\\t\\t\\t\\t\\t\\t\\t\\t\\t\\t구독\\n\\t\\t\\t\\t\\t\\t\\t\\t\\t\\t\\t\\t\\t\\t\\t\\t\\t\\t\\n\\n\\n\\t\\t\\t\\t\\t\\t\\t\\t\\t\\t\\t\\t\\t\\t\\t\\t\\t\\t언론사를 함께 구독중입니다.\\n\\t\\t\\t\\t\\t\\t\\t\\t\\t\\t\\t\\t\\t\\t\\t\\t\\t\\n\\n\\n잿더미 된 日항공기서 379명 전원 살린 \\'90초 룰’ 뭐길래 [영상]\\n파이낸셜뉴스\\n1시간전\\n\\n새로보기\\n\\n\\n함께 볼만한 뉴스\\n안내\\n\\n이 기사를 본 이용자들이 함께 많이 본 기사, 해당 기사와 유사한 기사, 관심 기사 등을 자동 추천합니다\\n닫기\\n\\n\\n재생하기\\n재생시간03:42\\n\\n\\n\"이재명, 당무 복귀 의지\"...한동훈 \"5·18 헌법 수록 적극 찬성\"\\n일반 병실로 옮겨 회복 치료를 받는 더불어 민주당 이재명 대표는 서둘러 당무를 보겠다며, 복귀 의사를 내비친 것으로 파악됐습니다. 국민의힘 한동훈 비상대책위원장은 오늘(4일) 광주를 찾아 5·18 정신 헌법 전문 수\\n\\n\"연봉 1억원, 이런 밥상이 삼시세끼 공짜\" 난리난 이 회사, 어디길래?\\n“맥주 제공 PC방…알고보니 회사?” 매끼 1만5000원의 식사가 ‘공짜’다. 맥주도 마음껏 마실 수 있다. 또 PC방도 편하게 즐길 수 있다. 이는 문화·외식시설이 아닌 한 게임사의 직원 지원 제도들이다. 전세계 \\n\\n이재명 집도의 \"1.4㎝ 자상·9㎜ 봉합…합병증 우려 있어 경과 지켜봐야\"\\n지난 2일 부산에서 흉기 급습을 당해 서울대병원에 입원 중인 더불어민주당 이재명 대표가 왼쪽 목에 1.4㎝ 자상을 입었으나 순조롭게 회복 중이라고 병원 측이 밝혔다. 이 대표의 수술을 집도한 민승기 이식혈관외과 교수\\n\\n부산대병원 “헬기 타고 다른 병원行, 이재명이 처음”\\n흉기 습격을 받은 이재명 더불어민주당 대표가 헬기를 타고 부산대병원에서 서울대병원으로 이송된 것과 관련해 “이곳에서 헬기를 타고 다른 병원으로 이동한 사례는 이번이 처음”이라는 부산대병원 측 증언이 나왔다. 4일 의', metadata={'source': 'https://n.news.naver.com/article/016/0002247281?sid=110', 'title': '소액투자자 위해 금투세 폐지? 증권거래세는? [홍길용의 화식열전]', 'language': 'ko'}), Document(page_content='부산대병원 “헬기 타고 다른 병원行, 이재명이 처음”\\n흉기 습격을 받은 이재명 더불어민주당 대표가 헬기를 타고 부산대병원에서 서울대병원으로 이송된 것과 관련해 “이곳에서 헬기를 타고 다른 병원으로 이동한 사례는 이번이 처음”이라는 부산대병원 측 증언이 나왔다. 4일 의\\n\\n\\'창당 선배\\' 안철수, \\'신당\\' 이준석에 \"이삭줍기 소용없다\"\\n정당 만들려면 시도별 5천명씩 최소 5개 이상 시도당 만들어져야\" 국민의힘 안철수 의원은 4일 이준석 전 대표의 신당 세력화와 관련해 \"(공천) 탈락할 가능성이 많은 후보나 이미 한번 컷오프된 후보들은 아무리 합류\\n\\n“누워서 유튜브 보다잤다” 이런 사람 많다 했더니…카카오 ‘발칵’ 뒤집혔다\\n유튜브가 카카오톡을 제치고 국내 모바일 애플리케이션 중 사용자 수 1위를 눈앞에 두고 있다. 한국은 해외 빅테크 기업 진출에도 국내 플랫폼이 점유율을 유지하는 몇 안 되는 국가였지만, 숏폼과 영상을 앞세운 유튜브에는\\n\\n\"나도 헬기 태워달라\"던 정유라, 비판 일자 \"내가 이재명 죽으라고 했냐\"\\n박근혜 정부 시절 \\'국정농단\\'의 주범 최서원(개명 전 최순실)씨의 딸 정유라 씨가 최근 부산에서 피습을 당한 이재명 더불어민주당 대표와 그 지지자들을 겨냥했다. 정 씨는 지난 3일 자신의 사회관계망서비스(SNS)에 \\n\\n\\'성공 장담\\' 어려웠단 서울대병원에 \"사실 아냐\" 부산대병원 반박\\n이재명 더불어민주당 대표의 집도의인 민승기 서울대병원 이식혈관외과 교수는 4일 서울대병원 의학연구혁신센터에서 열린 브리핑 자리에서 \"사실과 다른 이야기들도 좀 있다\"며 수술 전후 결과를 설명했습니다. 먼저 서울대병원\\n\\n미국 기밀문서, 전두환 두고 “쿠데타”→“말썽쟁이”→“신군부”\\n‘우리는 사실상 완전한 쿠데타를 경험하였음… 일단의 ‘말썽쟁이’ 장교들(A group of young turk officers)이 주도면밀하게 군부의 권력 요직을 장악한 것으로 보임’(1979년 12월13일 오전 9\\n\\n고(故) 이선균 협박女, 돈 펑펑 쓰던 금수저에 영화배우 출신?…의문스러운 행적 속속 드러나\\n고(故) 이선균을 협박해 수천만원을 뜯어낸 혐의를 받는 여성이 경제적으로 어려움을 겪지 않는 상황이었고 오히려 그 반대였다는 주장이 나왔다. 카라큘라는 2일 유튜브 채널 \\'카라큘라 범죄연구소\\'를 통해 \\'갓난아이를 들\\n\\n“헬기 태워주세요. 아이고 나 죽는다”…‘이재명 피습’ 정유라 발언 논란\\n이재명 더불어민주당 대표가 부산 방문 중 60대 남성에게 피습을 당한 것과 관련 국정농단 사건으로 복역 중인 최서원씨의 딸 정유라씨가 비꼬는 듯한 글을 올려 논란이 일고 있다. 정씨는 지난 3일 사회관계망서비스(SN\\n\\n재생하기\\n재생시간02:03\\n\\n\\n한동훈 둘러싼 \\'빨간 마스크\\'…철통 경호 받으며 광주 누볐다\\n“조금만 물러나 주세요. 협조해주세요. 뒤에 계단 조심하세요.” 광주 세 일정, 사고 없이 소화 4일 오전 광주광역시 송정역에 도착한 한동훈 국민의힘 비상대책위원장의 경호 인력이 접근하는 취재진을 향해 이렇게 소리쳤\\n\\n[단독] “태영 막내딸 챙긴 계열사 매각대금 500억 내놔야”…채권단 압박\\n태영건설 채권단이 태영인더스트리 매각대금 중 총수일가의 막내딸 몫인 500억여원을 태영건설에 제공하라고 요구했다. 사재 출연 압박을 총수일가 전반으로 넓히는 모양새다. 앞서 태영그룹은 티와이홀딩스와 윤석민 회장 몫인\\n\\n\"남자가 생리대를 차고 돌아다녀요\"…인천공항 발칵 뒤집은 이 남성의 실체 \\'충격\\'\\n태국과 필리핀에서 5억원대 필로폰을 생리대에 숨겨 국내로 밀수한 혐의를 받는 일당이 검찰에 적발됐다. 3일 인천지검 강력범죄수사부는 특정범죄가중처벌법상 향정 등 혐의로 태국 현지 발송책 A(43) 씨 등 9명을 구속\\n\\n아버지가 돌아가신 날 마구 맞았다…가해자는 ‘강제 전학’ 동급생\\n■ 아버지 돌아가신 날 동급생이 무차별 폭행 남학생의 다리에 긁힌 상처와 멍 자국이 선명합니다. 발목에도 멍이 들었습니다. 이 고등학생은 가슴에도 시퍼런 멍이 남았고 얼굴도 빨갛게 부어올랐습니다. 제주의 한 고등학생\\n\\n돼지비계, 꼭 잘라 먹어야 할까? 의외의 건강 효과\\n건강을 위해 돼지고기에서 비계만 제거해서 먹는 경우가 있다. 돼지비계가 기름 덩어리인 것은 사실이나, 그렇다고 해서 꼭 몸에 나쁘기만 한 것은 아니다. 의외로 돼지비계는 여러 영양적 가치를 지닌다. 돼지비계의 영양과\\n\\n\"두 정거장 가는데 1시간 반\"…지옥의 퇴근길, 정체 시작점 보니\\n서울시가 명동입구 버스 정류소 혼잡 완화를 위해 선제적으로 설치한 노선표시 시설물이 오히려 교통혼잡을 더 야기하면서 시민들 불만이 터져 나오고 있다. 지난 2일 한 온라인 커뮤니티에는 \\'앞으로 계속 일어날 명동입구발\\n\\n\"혼전임신으로 태어난 아이, 중학생 돼 친자확인했더니\"\\n이혼한 남성이 첫째 아이가 자신의 친자식이 아니라는 사실을 뒤늦게 알게 됐다는 사연이 사회관계망서비스(SNS) 상에서 논란이 되고 있다. 지난 3일 YTN \\'조인섭 변호사의 상담소\\'는 혼전임신으로 결혼을 한 남성 A\\n\\n재생하기\\n재생시간01:18\\n\\n\\n“상한 대게는 정말 아닙니다”…사과문 올린 속초 횟집 [잇슈 키워드]\\n잇슈키워드입니다. 오늘 첫 번째 키워드, \\'대게\\'입니다. 강원도 속초에서 횟집을 운영하는 업주가 사과문을 올렸습니다. 무슨 사연인지, 화면으로 만나 보시죠. 업주가 올린 사과문입니다. \"죄송하다\", \"잘못했다\" 거듭\\n\\n“손님 여러분 환영합니다” 대한항공 새 명예 승무원은 누구?\\n“붉은색 손잡이를 당기면 부풀어 오르고, 충분히 부풀지 않는다면 고무관을 불어주세요.” 능숙하게 비상시 행동 요령을 설명하는 단발머리의 승무원. 얼핏 보면 실제 사람 같지만, 게임 회사가 만든 버추얼 휴먼(가상인간)\\n\\n김의겸의 낯뜨거운 ‘李비어천가’ … “천운이 목숨 살렸다”\\n민주당 영입인재가 한 발언을 의사 얘기라며 ‘이재명 띄우기’ 청담동 술자리 가짜뉴스 확산 비판을 받아온 김의겸 더불어민주당 의원이 이재명 민주당 대표의 피습 사건을 두고 “천운이 목숨을 살렸다”면서 이 대표 띄우기에', metadata={'source': 'https://n.news.naver.com/article/016/0002247281?sid=110', 'title': '소액투자자 위해 금투세 폐지? 증권거래세는? [홍길용의 화식열전]', 'language': 'ko'}), Document(page_content='김의겸의 낯뜨거운 ‘李비어천가’ … “천운이 목숨 살렸다”\\n민주당 영입인재가 한 발언을 의사 얘기라며 ‘이재명 띄우기’ 청담동 술자리 가짜뉴스 확산 비판을 받아온 김의겸 더불어민주당 의원이 이재명 민주당 대표의 피습 사건을 두고 “천운이 목숨을 살렸다”면서 이 대표 띄우기에\\n\\n\"옛 양파거지에 이은 스벅 우유거지?\"…아이먹이기 꿀팁이냐, 민폐냐\\n최근 사회관계망서비스(SNS) 상에서 \"꿀팁(유익한 조언)\"으로 널리 알려진 \\'스타벅스에서 무료 우유 받는 법\\'과 관해 누리꾼의 갑론을박이 벌어지고 있다. 4일 온라인 커뮤니티와 SNS, 맘카페 등에는 \\'스타벅스 무\\n\\n제주 나가는 차량 뒷좌석 바닥 봤더니…숨어있던 중국인 \\'발각\\'\\n제주에 무사증 입국 후 다른 지역으로 이동하려던 중국인과 이를 도운 알선책이 검찰에 넘겨졌다. 4일, 제주해양경찰서는 제주특별자치도 설치 및 국제자유도시 조성을 위한 특별법 위반 혐의로 중국 국적 40대 여성 A 씨\\n\\n한동훈 “광주에 죄책감 대신 존경심…호남서 정말 당선되고 싶다”\\n한동훈 국민의힘 비상대책위원장이 4일 야당 텃밭인 광주를 찾아 “우리 당은 광주와 호남에서 정말 당선되고 싶다”고 호소했다. 한 비대위원장은 이날 오전 광주 서구 김대중컨벤션센터에서 열린 광주시당 신년인사회에서 이렇\\n\\n집 비번 잊은 50대, 옥상서 밧줄 타고 들어가려다 떨어져 숨져\\n현관문 비밀번호를 잊어버린 50대 여성이 원룸 옥상에서 밧줄을 이용해 집 창문으로 들어가려다 떨어져 숨졌습니다. 오늘(4일) 광주경찰청에 따르면 지난 2일 밤 9시 46분쯤 광주 동구 산수동에 있는 한 원룸 옥상에서\\n\\n‘주7일 근무·월급 202만원’ 염전 구인공고 논란…“노예를 원하나”\\n“주 7일 근무·월급 202만원 이상·기숙사와 식사 제공” 고용노동부가 인증하는 ‘구인 공고’에 주5일 근무를 무시하고 최저임금에도 못 미치는 급여를 받는 염전 노동자 구인 소식이 올라와 논란이 됐다. 고용부는 뒤늦\\n\\n‘불매운동’ 10년···남양유업 60년 ‘오너 경영’ 막 내렸다\\n국내 3대 유업체로 꼽히는 남양유업의 ‘오너 경영’이 60년 만에 끝을 맞았다. 남양의 새 주인이 된 국내 사모펀드 한앤컴퍼니는 숱한 논란으로 훼손된 기업 이미지는 물론 실적까지 개선해야 하는 무거운 과제를 안게 됐\\n\\n안 움직이니 근육도 시름시름…집에서 \\'이 운동\\'만 해보자\\n뼈를 지탱해 몸을 움직이게 하고, 우리 몸의 각 기관을 보호하는 중요한 부위인 근육. 그러나 신체는 나이들면 서서히 근육량이 줄어들기 마련이다. 특히나 겨울철처럼 실내 활동시간이 많아지면서 운동량이 부족해져 근감소증\\n\\n재생하기\\n재생시간05:46\\n\\n\\n브리핑 나선 서울대 의료진 \"1.4cm 자상‥속목정맥 60% 잘려\" [현장영상]\\n서울대병원 브리핑 1월 4일 ◀ 박도중 /서울대병원 대외협력실장 ▶ 전 국민들께서 관심이 많은 사안이라 수술 후에 언론 브리핑을 준비하였습니다. 그런데 법리 자문 결과 의료법과 개인정보보호법 때문에 환자의 동의 없이\\n\\n\"다이소보다 싸다\" 열광…대기업 임원도 푹 빠졌다는데 [박동휘의 컨슈머 리포트]\\n‘线上经济一体化(셴샹징지이티화)’ 알리바바, 텐센트 등 중국의 빅테크들이 즐겨 사용하는 말이다. ‘온라인 세상의 국경 없는 경제를 통일시키겠다’는 의미다. 표현은 다\\n\\n\\n이전 뉴스들 보기\\n\\n\\n5\\n다음 뉴스들 보기\\n\\n\\n구독\\n\\n\\n본문 듣기를 종료하였습니다.\\n\\n이 기사를 추천했습니다.\\n\\n추천을 취소했습니다.\\n\\n맨위로\\n\\n\\n로그인\\n전체서비스\\n\\n서비스안내\\n뉴스도움말\\n오류신고\\n\\n본 콘텐츠의 저작권은 제공처 또는 네이버에 있으며, 이를 무단이용하는 경우 저작권법 등에 따라 법적책임을 질 수 있습니다.\\nⓒ NAVER Corp.\\nⓒ 헤럴드경제\\n\\n\\n예\\n아니오', metadata={'source': 'https://n.news.naver.com/article/016/0002247281?sid=110', 'title': '소액투자자 위해 금투세 폐지? 증권거래세는? [홍길용의 화식열전]', 'language': 'ko'})], 'output_text': '제목: 윤석열 대통령, 금융투자소득세 폐지 추진에 대한 논란\\n\\n주요내용: 윤석열 대통령이 금융투자소득세 폐지를 추진하면서 법 개정과 시행령 개정에 대한 논란이 제기되고 있다. 금투세 폐지로 인해 소액투자자에게 혜택이 있을 수 있지만 장기투자 효과가 반감될 가능성도 있다는 주장이 있다. 증권거래세를 없애는 것은 증시 활성화를 위해 필요한 조치라는 의견도 있다.\\n\\n내용:\\n- 윤석열 대통령이 금융투자소득세 폐지를 추진하고 있음\\n- 금투세 폐지는 법 개정이 필요하며 증권거래세는 시행령 개정 사항이라는 주장이 있음\\n- 금투세 폐지로 인해 소액투자자에게 혜택이 있을 수 있지만 장기투자 효과가 반감될 가능성도 있음\\n- 증권거래세를 없애는 것은 증시 활성화를 위해 필요한 조치라는 주장이 있음'}\n"
          ]
        }
      ]
    },
    {
      "cell_type": "code",
      "source": [
        "import gradio as gr\n",
        "from langchain.chat_models import ChatOpenAI\n",
        "from langchain.document_loaders import WebBaseLoader\n",
        "from langchain.text_splitter import CharacterTextSplitter\n",
        "from langchain.chains.summarize import load_summarize_chain\n",
        "from langchain.prompts import PromptTemplate\n",
        "\n",
        "\n",
        "# 네이버 뉴스기사 주소\n",
        "url = 'https://n.news.naver.com/article/016/0002247281?sid=110'\n",
        "\n",
        "# 웹 문서 크롤링\n",
        "loader = WebBaseLoader(url)\n",
        "\n",
        "# 뉴스기사의 본문을 Chunk 단위로 쪼갬\n",
        "# length_function : 청크의 길이를 계산하는 방법,\n",
        "#                   기본적으로 문자 수만 세지만 여기서는 토큰 카운터를 전달하는 것이 중요\n",
        "text_splitter = CharacterTextSplitter(\n",
        "    separator = '\\n\\n',\n",
        "    chunk_size = 3000,\n",
        "    chunk_overlap = 300,\n",
        "    length_function = len\n",
        ")\n",
        "\n",
        "# 웹사이트 내용 크롤링 후 Chunk 단위로 분할\n",
        "docs = loader.load_and_split(text_splitter)\n",
        "\n",
        "# 각 Chunk 단위의 템플릿\n",
        "template = '''다음의 내용을 한글로 요약해줘 :\n",
        "\n",
        "{text}\n",
        "'''\n",
        "\n",
        "# 전체 문서 (혹은 전체 Chunk)에 대한 지시(instruct) 정의\n",
        "combine_template = '''{text}\n",
        "\n",
        "요약의 결과는 다음의 형식으로 작성해줘 :\n",
        "제목 : 신문기사의 제목\n",
        "주요내용 : 한 줄로 요약 된 내용\n",
        "내용 : 주요내용을 불렛포인트 형식으로 작성\n",
        "'''\n",
        "\n",
        "# 템플릿 생성\n",
        "prompt = PromptTemplate(template = template, input_variables = ['text'])\n",
        "combine_prompt = PromptTemplate(template = combine_template, input_variables = ['text'])\n",
        "\n",
        "# LLM 객체 생성\n",
        "llm = ChatOpenAI(\n",
        "    temperature = 0, model_name = 'gpt-3.5-turbo'\n",
        ")\n",
        "\n",
        "# 요약을 도와주는 load_summarize_chain\n",
        "chain = load_summarize_chain(\n",
        "    llm,\n",
        "    map_prompt = prompt,\n",
        "    combine_prompt = combine_prompt,\n",
        "    chain_type = 'map_reduce',\n",
        "    verbose = False\n",
        ")\n",
        "\n",
        "# Gradio UI 함수 정의\n",
        "def summarize_text(text):\n",
        "  # 여기에 특정 로직을 추가하여 text를 처리하는 코드를 작성\n",
        "  result = chain.run(docs)  # Use the chain directly without 'process'\n",
        "  return result\n",
        "\n",
        "# Gradio UI 구성\n",
        "iface = gr.Interface(fn = summarize_text, inputs = 'text', outputs = 'text')\n",
        "iface.launch(debug = True)  # 웹 브라우저에서 열립니다."
      ],
      "metadata": {
        "colab": {
          "base_uri": "https://localhost:8080/",
          "height": 658
        },
        "id": "xTAAOzQDgTFd",
        "outputId": "ec60dde8-bd31-412a-9896-8862e5045a47"
      },
      "execution_count": null,
      "outputs": [
        {
          "output_type": "stream",
          "name": "stdout",
          "text": [
            "Colab notebook detected. This cell will run indefinitely so that you can see errors and logs. To turn off, set debug=False in launch().\n",
            "Note: opening Chrome Inspector may crash demo inside Colab notebooks.\n",
            "\n",
            "To create a public link, set `share=True` in `launch()`.\n"
          ]
        },
        {
          "output_type": "display_data",
          "data": {
            "text/plain": [
              "<IPython.core.display.Javascript object>"
            ],
            "application/javascript": [
              "(async (port, path, width, height, cache, element) => {\n",
              "                        if (!google.colab.kernel.accessAllowed && !cache) {\n",
              "                            return;\n",
              "                        }\n",
              "                        element.appendChild(document.createTextNode(''));\n",
              "                        const url = await google.colab.kernel.proxyPort(port, {cache});\n",
              "\n",
              "                        const external_link = document.createElement('div');\n",
              "                        external_link.innerHTML = `\n",
              "                            <div style=\"font-family: monospace; margin-bottom: 0.5rem\">\n",
              "                                Running on <a href=${new URL(path, url).toString()} target=\"_blank\">\n",
              "                                    https://localhost:${port}${path}\n",
              "                                </a>\n",
              "                            </div>\n",
              "                        `;\n",
              "                        element.appendChild(external_link);\n",
              "\n",
              "                        const iframe = document.createElement('iframe');\n",
              "                        iframe.src = new URL(path, url).toString();\n",
              "                        iframe.height = height;\n",
              "                        iframe.allow = \"autoplay; camera; microphone; clipboard-read; clipboard-write;\"\n",
              "                        iframe.width = width;\n",
              "                        iframe.style.border = 0;\n",
              "                        element.appendChild(iframe);\n",
              "                    })(7860, \"/\", \"100%\", 500, false, window.element)"
            ]
          },
          "metadata": {}
        },
        {
          "output_type": "stream",
          "name": "stdout",
          "text": [
            "Keyboard interruption in main thread... closing server.\n"
          ]
        },
        {
          "output_type": "execute_result",
          "data": {
            "text/plain": []
          },
          "metadata": {},
          "execution_count": 12
        }
      ]
    },
    {
      "cell_type": "markdown",
      "source": [
        "아래와 같은 형식으로 넣어야되지는 않음\n",
        "단, 링크를 넣을 경우 url에 있는 기사가 요약됨\n",
        "\n",
        "![image.png](data:image/png;base64,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)"
      ],
      "metadata": {
        "id": "PQEwU7Iwkv9a"
      }
    },
    {
      "cell_type": "code",
      "source": [
        "import gradio as gr\n",
        "from langchain.chat_models import ChatOpenAI\n",
        "from langchain.document_loaders import WebBaseLoader\n",
        "from langchain.text_splitter import CharacterTextSplitter\n",
        "from langchain.chains.summarize import load_summarize_chain\n",
        "from langchain.prompts import PromptTemplate\n",
        "\n",
        "\n",
        "# 네이버 뉴스기사 주소\n",
        "# url = 'https://n.news.naver.com/article/016/0002247281?sid=110'\n",
        "\n",
        "# Gradio UI 함수 정의\n",
        "def summarize_text(text):\n",
        "\n",
        "  # 웹 문서 크롤링\n",
        "  loader = WebBaseLoader(text)                                    # 추가 및 수정\n",
        "\n",
        "  # 뉴스기사의 본문을 Chunk 단위로 쪼갬\n",
        "  # length_function : 청크의 길이를 계산하는 방법,\n",
        "  #                   기본적으로 문자 수만 세지만 여기서는 토큰 카운터를 전달하는 것이 중요\n",
        "  text_splitter = CharacterTextSplitter(\n",
        "      separator = '\\n\\n',\n",
        "      chunk_size = 3000,\n",
        "      chunk_overlap = 300,\n",
        "      length_function = len,\n",
        "      is_separator_regex = False,                                 # 추가 및 수정\n",
        "  )\n",
        "\n",
        "  # 웹사이트 내용 크롤링 후 Chunk 단위로 분할\n",
        "  docs = loader.load_and_split(text_splitter)\n",
        "\n",
        "  # 각 Chunk 단위의 템플릿\n",
        "  template = '''다음의 내용을 한글로 요약해줘 :\n",
        "\n",
        "  {text}\n",
        "  '''\n",
        "\n",
        "  # 전체 문서 (혹은 전체 Chunk)에 대한 지시(instruct) 정의\n",
        "  combine_template = '''{text}\n",
        "\n",
        "  요약의 결과는 다음의 형식으로 작성해줘 :\n",
        "  제목 : 신문기사의 제목\n",
        "  주요내용 : 한 줄로 요약 된 내용\n",
        "  내용 : 주요내용을 불렛포인트 형식으로 작성\n",
        "  '''\n",
        "\n",
        "  # 템플릿 생성\n",
        "  prompt = PromptTemplate(template = template, input_variables = ['text'])\n",
        "  combine_prompt = PromptTemplate(template = combine_template, input_variables = ['text'])\n",
        "\n",
        "  # LLM 객체 생성\n",
        "  llm = ChatOpenAI(\n",
        "      temperature = 0,\n",
        "      model_name = 'gpt-3.5-turbo'\n",
        "  )\n",
        "\n",
        "  # 요약을 도와주는 load_summarize_chain\n",
        "  chain = load_summarize_chain(\n",
        "      llm,\n",
        "      map_prompt = prompt,\n",
        "      combine_prompt = combine_prompt,\n",
        "      chain_type = 'map_reduce',\n",
        "      verbose = False\n",
        "  )\n",
        "\n",
        "  # 여기에 특정 로직을 추가하여 text를 처리하는 코드를 작성\n",
        "  result = chain.run(docs)  # Use the chain directly without 'process'\n",
        "  return result\n",
        "\n",
        "# Gradio UI 구성\n",
        "iface = gr.Interface(fn = summarize_text, inputs = 'text', outputs = 'text')\n",
        "iface.launch(debug = True)  # 웹 브라우저에서 열립니다."
      ],
      "metadata": {
        "colab": {
          "base_uri": "https://localhost:8080/",
          "height": 658
        },
        "id": "RKEwTbw7iIQO",
        "outputId": "1bd50678-c7b8-49ac-c101-168e931401d8"
      },
      "execution_count": null,
      "outputs": [
        {
          "output_type": "stream",
          "name": "stdout",
          "text": [
            "Colab notebook detected. This cell will run indefinitely so that you can see errors and logs. To turn off, set debug=False in launch().\n",
            "Note: opening Chrome Inspector may crash demo inside Colab notebooks.\n",
            "\n",
            "To create a public link, set `share=True` in `launch()`.\n"
          ]
        },
        {
          "output_type": "display_data",
          "data": {
            "text/plain": [
              "<IPython.core.display.Javascript object>"
            ],
            "application/javascript": [
              "(async (port, path, width, height, cache, element) => {\n",
              "                        if (!google.colab.kernel.accessAllowed && !cache) {\n",
              "                            return;\n",
              "                        }\n",
              "                        element.appendChild(document.createTextNode(''));\n",
              "                        const url = await google.colab.kernel.proxyPort(port, {cache});\n",
              "\n",
              "                        const external_link = document.createElement('div');\n",
              "                        external_link.innerHTML = `\n",
              "                            <div style=\"font-family: monospace; margin-bottom: 0.5rem\">\n",
              "                                Running on <a href=${new URL(path, url).toString()} target=\"_blank\">\n",
              "                                    https://localhost:${port}${path}\n",
              "                                </a>\n",
              "                            </div>\n",
              "                        `;\n",
              "                        element.appendChild(external_link);\n",
              "\n",
              "                        const iframe = document.createElement('iframe');\n",
              "                        iframe.src = new URL(path, url).toString();\n",
              "                        iframe.height = height;\n",
              "                        iframe.allow = \"autoplay; camera; microphone; clipboard-read; clipboard-write;\"\n",
              "                        iframe.width = width;\n",
              "                        iframe.style.border = 0;\n",
              "                        element.appendChild(iframe);\n",
              "                    })(7860, \"/\", \"100%\", 500, false, window.element)"
            ]
          },
          "metadata": {}
        },
        {
          "output_type": "stream",
          "name": "stdout",
          "text": [
            "Keyboard interruption in main thread... closing server.\n"
          ]
        },
        {
          "output_type": "execute_result",
          "data": {
            "text/plain": []
          },
          "metadata": {},
          "execution_count": 12
        }
      ]
    },
    {
      "cell_type": "markdown",
      "source": [
        "### 강사님 코드 - 일단 저장"
      ],
      "metadata": {
        "id": "FuFEbPad2aUV"
      }
    },
    {
      "cell_type": "code",
      "source": [
        "import gradio as gr\n",
        "from langchain.chat_models import ChatOpenAI\n",
        "from langchain.document_loaders import WebBaseLoader\n",
        "from langchain.text_splitter import CharacterTextSplitter\n",
        "from langchain.chains.summarize import load_summarize_chain\n",
        "from langchain.prompts import PromptTemplate\n",
        "\n",
        "# 네이버 뉴스기사 주소\n",
        "#url = 'https://n.news.naver.com/article/016/0002247281?sid=110'\n",
        "\n",
        "# Gradio UI 함수 정의\n",
        "def summarize_text(text):\n",
        "    # 웹 문서 크롤링\n",
        "    loader = WebBaseLoader(text)\n",
        "\n",
        "    # 뉴스기사의 본문을 Chunk 단위로 쪼갬\n",
        "    text_splitter = CharacterTextSplitter(\n",
        "        separator=\"\\n\\n\",\n",
        "        chunk_size=3000,\n",
        "        chunk_overlap=300,\n",
        "        length_function=len,\n",
        "        is_separator_regex=False,\n",
        "    )\n",
        "\n",
        "    # 웹사이트 내용 크롤링 후 Chunk 단위로 분할\n",
        "    docs = loader.load_and_split(text_splitter)\n",
        "\n",
        "    # 각 Chunk 단위의 템플릿\n",
        "    template = '''다음의 내용을 한글로 요약해줘:\n",
        "\n",
        "    {text}\n",
        "    '''\n",
        "\n",
        "    # 전체 문서(혹은 전체 Chunk)에 대한 지시(instruct) 정의\n",
        "    combine_template = '''{text}\n",
        "\n",
        "    요약의 결과는 다음의 형식으로 작성해줘:\n",
        "    제목: 신문기사의 제목\n",
        "    주요내용: 한 줄로 요약된 내용\n",
        "    내용: 주요내용을 불렛포인트 형식으로 작성\n",
        "    '''\n",
        "\n",
        "    # 템플릿 생성\n",
        "    prompt = PromptTemplate(template=template, input_variables=['text'])\n",
        "    combine_prompt = PromptTemplate(template=combine_template, input_variables=['text'])\n",
        "\n",
        "    # LLM 객체 생성\n",
        "    llm = ChatOpenAI(temperature=0,\n",
        "                    model_name='gpt-3.5-turbo')\n",
        "\n",
        "    # 요약을 도와주는 load_summarize_chain\n",
        "    chain = load_summarize_chain(llm,\n",
        "                                map_prompt=prompt,\n",
        "                                combine_prompt=combine_prompt,\n",
        "                                chain_type=\"map_reduce\",\n",
        "                                verbose=False)\n",
        "\n",
        "\n",
        "    # 여기에 특정 로직을 추가하여 text를 처리하는 코드를 작성\n",
        "    result = chain.run(docs)  # Use the chain directly without 'process'\n",
        "    return result\n",
        "\n",
        "# Gradio UI 구성\n",
        "iface = gr.Interface(fn=summarize_text, inputs=\"text\", outputs=\"text\")\n",
        "iface.launch(debug=True)  # 웹 브라우저에서 열립니다."
      ],
      "metadata": {
        "id": "96KapQO4tksQ",
        "colab": {
          "base_uri": "https://localhost:8080/",
          "height": 658
        },
        "outputId": "77750dd0-67b3-4d06-a459-fd3a03969e1f"
      },
      "execution_count": null,
      "outputs": [
        {
          "output_type": "stream",
          "name": "stdout",
          "text": [
            "Colab notebook detected. This cell will run indefinitely so that you can see errors and logs. To turn off, set debug=False in launch().\n",
            "Note: opening Chrome Inspector may crash demo inside Colab notebooks.\n",
            "\n",
            "To create a public link, set `share=True` in `launch()`.\n"
          ]
        },
        {
          "output_type": "display_data",
          "data": {
            "text/plain": [
              "<IPython.core.display.Javascript object>"
            ],
            "application/javascript": [
              "(async (port, path, width, height, cache, element) => {\n",
              "                        if (!google.colab.kernel.accessAllowed && !cache) {\n",
              "                            return;\n",
              "                        }\n",
              "                        element.appendChild(document.createTextNode(''));\n",
              "                        const url = await google.colab.kernel.proxyPort(port, {cache});\n",
              "\n",
              "                        const external_link = document.createElement('div');\n",
              "                        external_link.innerHTML = `\n",
              "                            <div style=\"font-family: monospace; margin-bottom: 0.5rem\">\n",
              "                                Running on <a href=${new URL(path, url).toString()} target=\"_blank\">\n",
              "                                    https://localhost:${port}${path}\n",
              "                                </a>\n",
              "                            </div>\n",
              "                        `;\n",
              "                        element.appendChild(external_link);\n",
              "\n",
              "                        const iframe = document.createElement('iframe');\n",
              "                        iframe.src = new URL(path, url).toString();\n",
              "                        iframe.height = height;\n",
              "                        iframe.allow = \"autoplay; camera; microphone; clipboard-read; clipboard-write;\"\n",
              "                        iframe.width = width;\n",
              "                        iframe.style.border = 0;\n",
              "                        element.appendChild(iframe);\n",
              "                    })(7860, \"/\", \"100%\", 500, false, window.element)"
            ]
          },
          "metadata": {}
        },
        {
          "output_type": "stream",
          "name": "stdout",
          "text": [
            "Keyboard interruption in main thread... closing server.\n"
          ]
        },
        {
          "output_type": "execute_result",
          "data": {
            "text/plain": []
          },
          "metadata": {},
          "execution_count": 9
        }
      ]
    }
  ]
}