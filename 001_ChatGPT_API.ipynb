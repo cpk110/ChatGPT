{
  "nbformat": 4,
  "nbformat_minor": 0,
  "metadata": {
    "colab": {
      "provenance": [],
      "authorship_tag": "ABX9TyOPGnHM16j0a6yfQR2T1Gww",
      "include_colab_link": true
    },
    "kernelspec": {
      "name": "python3",
      "display_name": "Python 3"
    },
    "language_info": {
      "name": "python"
    }
  },
  "cells": [
    {
      "cell_type": "markdown",
      "metadata": {
        "id": "view-in-github",
        "colab_type": "text"
      },
      "source": [
        "<a href=\"https://colab.research.google.com/github/cpk110/ChatGPT/blob/master/001_ChatGPT_API.ipynb\" target=\"_parent\"><img src=\"https://colab.research.google.com/assets/colab-badge.svg\" alt=\"Open In Colab\"/></a>"
      ]
    },
    {
      "cell_type": "code",
      "source": [
        "# openai 패키지 1.6.1 (최신 2023.12.27)\n",
        "# !pip install openai\n",
        "# !pip uninstall openai"
      ],
      "metadata": {
        "id": "X4UlUovtx3OB"
      },
      "execution_count": 1,
      "outputs": []
    },
    {
      "cell_type": "code",
      "execution_count": 2,
      "metadata": {
        "colab": {
          "base_uri": "https://localhost:8080/"
        },
        "id": "mMhjvwHYxw3v",
        "outputId": "853a7409-ed13-4173-d799-0388797ed74c"
      },
      "outputs": [
        {
          "output_type": "stream",
          "name": "stdout",
          "text": [
            "Collecting openai==0.28.1\n",
            "  Downloading openai-0.28.1-py3-none-any.whl (76 kB)\n",
            "\u001b[2K     \u001b[90m━━━━━━━━━━━━━━━━━━━━━━━━━━━━━━━━━━━━━━━━\u001b[0m \u001b[32m77.0/77.0 kB\u001b[0m \u001b[31m769.2 kB/s\u001b[0m eta \u001b[36m0:00:00\u001b[0m\n",
            "\u001b[?25hRequirement already satisfied: requests>=2.20 in /usr/local/lib/python3.10/dist-packages (from openai==0.28.1) (2.31.0)\n",
            "Requirement already satisfied: tqdm in /usr/local/lib/python3.10/dist-packages (from openai==0.28.1) (4.66.1)\n",
            "Requirement already satisfied: aiohttp in /usr/local/lib/python3.10/dist-packages (from openai==0.28.1) (3.9.1)\n",
            "Requirement already satisfied: charset-normalizer<4,>=2 in /usr/local/lib/python3.10/dist-packages (from requests>=2.20->openai==0.28.1) (3.3.2)\n",
            "Requirement already satisfied: idna<4,>=2.5 in /usr/local/lib/python3.10/dist-packages (from requests>=2.20->openai==0.28.1) (3.6)\n",
            "Requirement already satisfied: urllib3<3,>=1.21.1 in /usr/local/lib/python3.10/dist-packages (from requests>=2.20->openai==0.28.1) (2.0.7)\n",
            "Requirement already satisfied: certifi>=2017.4.17 in /usr/local/lib/python3.10/dist-packages (from requests>=2.20->openai==0.28.1) (2023.11.17)\n",
            "Requirement already satisfied: attrs>=17.3.0 in /usr/local/lib/python3.10/dist-packages (from aiohttp->openai==0.28.1) (23.1.0)\n",
            "Requirement already satisfied: multidict<7.0,>=4.5 in /usr/local/lib/python3.10/dist-packages (from aiohttp->openai==0.28.1) (6.0.4)\n",
            "Requirement already satisfied: yarl<2.0,>=1.0 in /usr/local/lib/python3.10/dist-packages (from aiohttp->openai==0.28.1) (1.9.4)\n",
            "Requirement already satisfied: frozenlist>=1.1.1 in /usr/local/lib/python3.10/dist-packages (from aiohttp->openai==0.28.1) (1.4.1)\n",
            "Requirement already satisfied: aiosignal>=1.1.2 in /usr/local/lib/python3.10/dist-packages (from aiohttp->openai==0.28.1) (1.3.1)\n",
            "Requirement already satisfied: async-timeout<5.0,>=4.0 in /usr/local/lib/python3.10/dist-packages (from aiohttp->openai==0.28.1) (4.0.3)\n",
            "Installing collected packages: openai\n",
            "\u001b[31mERROR: pip's dependency resolver does not currently take into account all the packages that are installed. This behaviour is the source of the following dependency conflicts.\n",
            "llmx 0.0.15a0 requires cohere, which is not installed.\n",
            "llmx 0.0.15a0 requires tiktoken, which is not installed.\u001b[0m\u001b[31m\n",
            "\u001b[0mSuccessfully installed openai-0.28.1\n"
          ]
        }
      ],
      "source": [
        "# openai 라이브러리 설치 (구버전에 예제가 많아 새로 설치)\n",
        "!pip install openai==0.28.1"
      ]
    },
    {
      "cell_type": "code",
      "source": [
        "import openai\n",
        "openai.__version__"
      ],
      "metadata": {
        "colab": {
          "base_uri": "https://localhost:8080/",
          "height": 35
        },
        "id": "AUekYOuYyDXD",
        "outputId": "247cbf48-5055-4ae3-d65a-831a3ef2a97b"
      },
      "execution_count": 3,
      "outputs": [
        {
          "output_type": "execute_result",
          "data": {
            "text/plain": [
              "'0.28.1'"
            ],
            "application/vnd.google.colaboratory.intrinsic+json": {
              "type": "string"
            }
          },
          "metadata": {},
          "execution_count": 3
        }
      ]
    },
    {
      "cell_type": "markdown",
      "source": [
        "## 1. 기본 질문하기"
      ],
      "metadata": {
        "id": "zQH_IBybySrS"
      }
    },
    {
      "cell_type": "markdown",
      "source": [
        "```python\n",
        "# 코드로 형식 지정됨\n",
        "\n",
        "import openai\n",
        "\n",
        "openai.api_key='OpenAPI API Key'\n",
        "\n",
        "response = openai.ChatCompletion.create(\n",
        "  model=\"gpt-3.5-turbo\",\n",
        "  messages=[{\"role\": \"user\", \"content\": \"프롬프트 입력\"}],\n",
        "  temperature=1,\n",
        "  top_p=1,\n",
        "  presence_penalty=1,\n",
        "  frequency_penalty=1,\n",
        "  n=1,\n",
        "  max_tokens=4000,\n",
        "  stop=None\n",
        ")\n",
        "\n",
        "print(response)\n",
        "```"
      ],
      "metadata": {
        "id": "O-xYt-AJy4FA"
      }
    },
    {
      "cell_type": "code",
      "source": [
        "import openai\n",
        "\n",
        "openai.api_key='OpenAPI API Key'\n",
        "\n",
        "response = openai.ChatCompletion.create(\n",
        "  model=\"gpt-3.5-turbo\",\n",
        "  messages=[{\"role\": \"user\", \"content\": \"Tell me how to make a pizza\"}]\n",
        ")\n",
        "\n",
        "print(response)"
      ],
      "metadata": {
        "colab": {
          "base_uri": "https://localhost:8080/"
        },
        "id": "MyMmTMZD0WJx",
        "outputId": "ba2402a7-84ac-4f20-a96e-24e448629b35"
      },
      "execution_count": 4,
      "outputs": [
        {
          "output_type": "stream",
          "name": "stdout",
          "text": [
            "{\n",
            "  \"id\": \"chatcmpl-8aIq2gsA3FZqGLOokkXMTOOXDoPYs\",\n",
            "  \"object\": \"chat.completion\",\n",
            "  \"created\": 1703662914,\n",
            "  \"model\": \"gpt-3.5-turbo-0613\",\n",
            "  \"choices\": [\n",
            "    {\n",
            "      \"index\": 0,\n",
            "      \"message\": {\n",
            "        \"role\": \"assistant\",\n",
            "        \"content\": \"Making a pizza from scratch involves several steps. Here's a general overview of the process:\\n\\nIngredients:\\n- Pizza dough (store-bought or homemade)\\n- Tomato sauce or pizza sauce\\n- Mozzarella cheese (shredded or sliced)\\n- Toppings of your choice (e.g., pepperoni, mushrooms, bell peppers, onions, etc.)\\n- Olive oil\\n- Salt and pepper\\n- Optional: herbs and spices for flavor (oregano, basil, garlic powder, red pepper flakes)\\n\\nInstructions:\\n\\n1. Preheat your oven: Start by preheating your oven to the recommended temperature for baking pizza (usually around 450-500\\u00b0F/230-260\\u00b0C).\\n\\n2. Prepare the toppings: Slice or chop your desired toppings. For example, if you want pepperoni, slice it thinly. Similarly, thinly slice onions or bell peppers. If using mushrooms, slice them as well.\\n\\n3. Prepare the dough:\\n- If you are making pizza dough from scratch, follow a recipe or use a pre-made dough from the store.\\n- If using store-bought dough, let it rest at room temperature for about 30 minutes to make it easier to work with. Meanwhile, prepare your work surface by dusting it with flour.\\n\\n4. Shape the dough:\\n- Stretch or roll the dough to your desired thickness. A thin to medium thickness is typically ideal.\\n- For a round pizza, shape the dough into a circle. If you want a rectangular pizza, shape it accordingly.\\n- Ensure the dough is evenly stretched and maintain a thickness that will allow for even cooking.\\n\\n5. Pre-bake the dough (optional): Some recipes suggest pre-baking the dough for a few minutes before adding toppings. This step helps create a crispier crust. If desired, follow this step by baking the dough just until it sets but doesn't fully cook.\\n\\n6. Add the sauce and toppings:\\n- Brush the pizza dough with a thin layer of olive oil, which helps prevent the crust from becoming soggy.\\n- Spread tomato or pizza sauce evenly over the dough, leaving a small border around the edges for the crust.\\n- Sprinkle salt, pepper, and optional herbs (like oregano and basil) over the sauce.\\n- Next, evenly distribute your chosen toppings over the sauce. Sprinkle shredded or sliced mozzarella cheese on top.\\n\\n7. Bake the pizza:\\n- Place the pizza on a baking sheet or a preheated pizza stone if you have one.\\n- Bake in the preheated oven for about 12-15 minutes, or until the crust is golden brown and the cheese has melted and bubbled.\\n\\n8. Serve and enjoy:\\n- Once your pizza is baked to perfection, remove it from the oven and let it cool for a few minutes.\\n- Slice the pizza into wedges or squares using a pizza cutter or a sharp knife.\\n- Serve hot and enjoy your delicious homemade pizza!\\n\\nRemember, these instructions provide a general guideline, and you can customize the toppings and seasoning to your taste.\"\n",
            "      },\n",
            "      \"logprobs\": null,\n",
            "      \"finish_reason\": \"stop\"\n",
            "    }\n",
            "  ],\n",
            "  \"usage\": {\n",
            "    \"prompt_tokens\": 14,\n",
            "    \"completion_tokens\": 609,\n",
            "    \"total_tokens\": 623\n",
            "  },\n",
            "  \"system_fingerprint\": null\n",
            "}\n"
          ]
        }
      ]
    },
    {
      "cell_type": "markdown",
      "source": [
        "### [각 정보의 의미]\n",
        "- choices : 완료 개체 목록이다. 질문시 응답 개수(n)를 1로 설정하면 한개, 2로 설정하면 2개의 완료 개체가 리스트 형태로 저장된다.\n",
        "- index : 완료 개체의 인덱스이다.\n",
        "- message : 모델에서 생성된 메시지 내용이다. 'content'는 답변 내용 'role'은 질문 시 지정한 역할이다.\n",
        "- created : 요청한 시점의 타임스탬프이다.\n",
        "- object : 반환된 객체의 유형이다. ChatGPT의 경우 chat.completion 객체로 반환된다.\n",
        "- usage : 질문할 때 사용된 토큰 수, 응답할 때 사용한 토큰 수, 총 사용한 토큰 수를 각각 제공한다."
      ],
      "metadata": {
        "id": "BMZyZdGx0lmT"
      }
    },
    {
      "cell_type": "markdown",
      "source": [
        "소모한 토큰 수 확인"
      ],
      "metadata": {
        "id": "Xj16o8JIHeZZ"
      }
    },
    {
      "cell_type": "code",
      "source": [
        "print(response['usage'])"
      ],
      "metadata": {
        "id": "Rfascucu2hqq",
        "colab": {
          "base_uri": "https://localhost:8080/"
        },
        "outputId": "8b7dbeb3-ca82-46e5-bded-36f37fa1773d"
      },
      "execution_count": 5,
      "outputs": [
        {
          "output_type": "stream",
          "name": "stdout",
          "text": [
            "{\n",
            "  \"prompt_tokens\": 14,\n",
            "  \"completion_tokens\": 609,\n",
            "  \"total_tokens\": 623\n",
            "}\n"
          ]
        }
      ]
    },
    {
      "cell_type": "markdown",
      "source": [
        "### 총 비용 계산  \n",
        "gpt-3.5-turbo 모델을 사용했고, 해당 모델의 프롬프트 토큰은 1000 토큰당 $0.0015, 완료 토큰은 1000 토큰당 $0.002의 비용이 발생하므로 약 1.62120175원을 사용한다."
      ],
      "metadata": {
        "id": "F0ugmZ702ak6"
      }
    },
    {
      "cell_type": "code",
      "source": [
        "total_bill = response['usage']['prompt_tokens'] * 0.0015/1000 + response['usage']['prompt_tokens'] * 0.002/1000\n",
        "print(total_bill)\n",
        "print('총 발생 비용 {0:.3f}원'.format(total_bill * 1323.43))  # 환율 1323.43원으로 계산"
      ],
      "metadata": {
        "id": "to0Ok9GN3vZp",
        "colab": {
          "base_uri": "https://localhost:8080/"
        },
        "outputId": "37acbcf2-8964-4eab-ac3b-76b8d927be26"
      },
      "execution_count": 6,
      "outputs": [
        {
          "output_type": "stream",
          "name": "stdout",
          "text": [
            "4.9e-05\n",
            "총 발생 비용 0.065원\n"
          ]
        }
      ]
    },
    {
      "cell_type": "markdown",
      "source": [
        "## 2. 역할 부여하기\n",
        "\n",
        "- GhatGPT API를 이용해 ChatAPI를 사용할 때는 ChatGPT에게 역할을 지시할 수 있다.\n",
        "- 역할지시란 ChatGPT가 앞으로 답변할 때 해당 역할로서 답변이라는 의미이다.\n",
        "- 역할 지시 방법은 항상 지시한 역할대로 동작한다는 보장은 없지만, 역할 지시문에 따라 답변 자체의 방향성을 바꿔 버리기도 한다.\n",
        "- 역할을 지시하려면 기존 코드에서 {\"role\": \"system\", \"content\": \" \"}를 추가한다."
      ],
      "metadata": {
        "id": "Eom0oa2E3u2o"
      }
    },
    {
      "cell_type": "markdown",
      "source": [
        "ChatGPT에게 친절하게 답변해주는 비서라는 역할을 부여"
      ],
      "metadata": {
        "id": "LUANz3Lv4I4a"
      }
    },
    {
      "cell_type": "code",
      "source": [
        "import openai\n",
        "\n",
        "openai.api_key='OpenAPI API Key'\n",
        "\n",
        "response = openai.ChatCompletion.create(\n",
        "  model=\"gpt-3.5-turbo\",\n",
        "  messages=[{\"role\": \"user\", \"content\": \"2020년 월드시리즈에서는 누가 우승했어?\"}]\n",
        ")\n",
        "\n",
        "print(response)"
      ],
      "metadata": {
        "colab": {
          "base_uri": "https://localhost:8080/"
        },
        "id": "-tetlt6Y9DMJ",
        "outputId": "22350d81-7fa2-4d19-a43d-bdb1fbc38339"
      },
      "execution_count": 8,
      "outputs": [
        {
          "output_type": "stream",
          "name": "stdout",
          "text": [
            "{\n",
            "  \"id\": \"chatcmpl-8aIrB72I3Om3GTen8gWFMZ4BeusJl\",\n",
            "  \"object\": \"chat.completion\",\n",
            "  \"created\": 1703662985,\n",
            "  \"model\": \"gpt-3.5-turbo-0613\",\n",
            "  \"choices\": [\n",
            "    {\n",
            "      \"index\": 0,\n",
            "      \"message\": {\n",
            "        \"role\": \"assistant\",\n",
            "        \"content\": \"2020\\ub144 \\uc6d4\\ub4dc\\uc2dc\\ub9ac\\uc988\\uc5d0\\uc11c \\ubbf8\\uad6d \\uba54\\uc774\\uc800 \\ub9ac\\uadf8\\uc758 \\ub85c\\uc2a4\\uc564\\uc824\\ub808\\uc2a4 \\ub2e4\\uc800\\uc2a4\\uac00 \\ud0ec\\ud30c\\ubca0\\uc774 \\ub808\\uc774\\uc2a4\\ub97c \\uc774\\uae30\\uace0 \\uc6b0\\uc2b9\\ud588\\uc2b5\\ub2c8\\ub2e4.\"\n",
            "      },\n",
            "      \"logprobs\": null,\n",
            "      \"finish_reason\": \"stop\"\n",
            "    }\n",
            "  ],\n",
            "  \"usage\": {\n",
            "    \"prompt_tokens\": 33,\n",
            "    \"completion_tokens\": 62,\n",
            "    \"total_tokens\": 95\n",
            "  },\n",
            "  \"system_fingerprint\": null\n",
            "}\n"
          ]
        }
      ]
    },
    {
      "cell_type": "code",
      "source": [
        "response = openai.ChatCompletion.create(\n",
        "  model=\"gpt-3.5-turbo\",\n",
        "  messages=[\n",
        "    {\"role\": \"system\", \"content\": \"너는 친절하게 답변해주는 비서야\"},\n",
        "    {\"role\": \"user\", \"content\": \"2020년 월드시리즈에서는 누가 우승했어?\"}\n",
        "  ]\n",
        ")\n",
        "\n",
        "print(response['choices'][0]['message']['content'])"
      ],
      "metadata": {
        "id": "WyMvktx_3v0p",
        "colab": {
          "base_uri": "https://localhost:8080/"
        },
        "outputId": "552b3e83-4bff-4e94-aff8-a691aedaa366"
      },
      "execution_count": 9,
      "outputs": [
        {
          "output_type": "stream",
          "name": "stdout",
          "text": [
            "2020년 월드시리즈에서는 로스앤젤레스 다저스가 테임파베이 레이스를 상대로 우승했어요.\n"
          ]
        }
      ]
    },
    {
      "cell_type": "markdown",
      "source": [
        "ChatGPT에게 초등학생에게 쉽게 답변 해주는 선생님이라는 역할을 부여"
      ],
      "metadata": {
        "id": "kSh5djqB4O7X"
      }
    },
    {
      "cell_type": "code",
      "source": [
        "response = openai.ChatCompletion.create(\n",
        "  model=\"gpt-3.5-turbo\",\n",
        "  messages=[\n",
        "    {\"role\": \"system\", \"content\": \"너는 초등학교 선생님이야 초등학생도 알 수 있게 쉽게 설명해줘\"},\n",
        "    {\"role\": \"user\", \"content\": \"2020년 월드시리즈에서는 누가 우승했어?\"}\n",
        "  ]\n",
        ")\n",
        "\n",
        "print(response['choices'][0]['message']['content'])"
      ],
      "metadata": {
        "id": "5DOVgsfm4PTC",
        "colab": {
          "base_uri": "https://localhost:8080/"
        },
        "outputId": "8819c089-bcec-4362-895e-dc05a2f425b6"
      },
      "execution_count": 10,
      "outputs": [
        {
          "output_type": "stream",
          "name": "stdout",
          "text": [
            "2020년 월드시리즈에서는 로스앤젤레스 다저스가 우승했어. 로스앤젤레스 다저스는 미국프로야구 메이저리그에 속하는 팀이야. 월드시리즈는 미국프로야구의 우승팀을 가리키는데, 로스앤젤레스 다저스는 터키에서 열린 히슬레켈리야판에서 탬파베이 레이즈를 이기고 우승했어.\n"
          ]
        }
      ]
    },
    {
      "cell_type": "markdown",
      "source": [
        "역할 지시문에 한국어로 질문해도 영어로 답변하는 챗봇이라는 지시문을 넣어본다.\n",
        "\n",
        "참고로 역할 지시문은 한국어가 아니라 영어로 작성해서 더 잘 동작하는 경향이 있으므로 지시문을 영어로 작성한다."
      ],
      "metadata": {
        "id": "UhSSFcBABhgd"
      }
    },
    {
      "cell_type": "code",
      "source": [
        "response = openai.ChatCompletion.create(\n",
        "  model=\"gpt-3.5-turbo\",\n",
        "  messages=[\n",
        "    {\"role\": \"system\", \"content\": \"You are a chatbot that answers questions in English even in Korean\"},\n",
        "    {\"role\": \"user\", \"content\": \"2020년 월드시리즈에서는 누가 우승했어?\"}\n",
        "  ]\n",
        ")\n",
        "\n",
        "print(response['choices'][0]['message']['content'])"
      ],
      "metadata": {
        "colab": {
          "base_uri": "https://localhost:8080/"
        },
        "id": "MsTsTrMkBXno",
        "outputId": "b2387dd0-afb8-4577-defe-f26e4c51f515"
      },
      "execution_count": 11,
      "outputs": [
        {
          "output_type": "stream",
          "name": "stdout",
          "text": [
            "2020년 월드시리즈에서는 로스앤젤레스 다저스(Los Angeles Dodgers)가 우승했어요.\n"
          ]
        }
      ]
    },
    {
      "cell_type": "markdown",
      "source": [
        "질문에 대답하는 대신 답변을 거부하고, 사과하는 챗봇을 구현"
      ],
      "metadata": {
        "id": "9OIKAxA0CHho"
      }
    },
    {
      "cell_type": "code",
      "source": [
        "response = openai.ChatCompletion.create(\n",
        "  model=\"gpt-3.5-turbo\",\n",
        "  messages=[\n",
        "    {\"role\": \"system\", \"content\": \"You're a chatbot that refuses to answer and says sorry when users ask questions\"},\n",
        "    {\"role\": \"user\", \"content\": \"2020년 월드시리즈에서는 누가 우승했어?\"}\n",
        "  ]\n",
        ")\n",
        "\n",
        "print(response['choices'][0]['message']['content'])"
      ],
      "metadata": {
        "colab": {
          "base_uri": "https://localhost:8080/"
        },
        "id": "5azKwIDrB6eY",
        "outputId": "a4134005-a916-4390-f84b-692bc0721f04"
      },
      "execution_count": 12,
      "outputs": [
        {
          "output_type": "stream",
          "name": "stdout",
          "text": [
            "Sorry, I can't answer that question.\n"
          ]
        }
      ]
    },
    {
      "cell_type": "markdown",
      "source": [
        "ChatGPT가 사용자의 질문에 답변하는 것이 아니라 질문을 영어로 번역하여 답변하는 지시문"
      ],
      "metadata": {
        "id": "cI2hvkPYCaBF"
      }
    },
    {
      "cell_type": "code",
      "source": [
        "response = openai.ChatCompletion.create(\n",
        "  model=\"gpt-3.5-turbo\",\n",
        "  messages=[\n",
        "    {\"role\": \"system\", \"content\": \"You're a translator who translates user input\"},\n",
        "    {\"role\": \"user\", \"content\": \"2020년 월드시리즈에서는 누가 우승했어?\"}\n",
        "  ]\n",
        ")\n",
        "\n",
        "print(response['choices'][0]['message']['content'])"
      ],
      "metadata": {
        "colab": {
          "base_uri": "https://localhost:8080/"
        },
        "id": "BYs_07g4CQpg",
        "outputId": "b1105c07-d442-4a51-ba78-f2a27aa31e20"
      },
      "execution_count": 14,
      "outputs": [
        {
          "output_type": "stream",
          "name": "stdout",
          "text": [
            "2020년 월드시리즈에서는 로스앤젤레스 다저스가 우승했습니다.\n"
          ]
        }
      ]
    },
    {
      "cell_type": "markdown",
      "source": [
        "## 3. 이전대화를 포함하여 답변하기\n",
        "\n",
        "- ChatGPT는 답변할 때 이전 질문과 답변을 모두 고려하여 답변하는 특징이 있다.\n",
        "- ChatGPT API를 이용하면 ChatGPT에게 답변을 요청할 때 '앞서 네가 이런 답변을 한 상태였다'라는 정보를 전달할 수 있다. 이것은 사용자가 가정하는 것이지만, ChatGPT는 마치 과거에 자신이 답변한 것으로 가정하고, 추가 답변을 제공한다.\n",
        "-  mesages=[ ]안에  {'role': 'user', 'content':' '}작성 후 {'role':'assistant', 'content':' '}을 추가로 작성하고, 다시 {'role':'user', 'content':' '}를 번갈아 작성하면 된다."
      ],
      "metadata": {
        "id": "5l5n7IN_9SUC"
      }
    },
    {
      "cell_type": "code",
      "source": [
        "response = openai.ChatCompletion.create(\n",
        "  model=\"gpt-3.5-turbo\",\n",
        "  messages=[\n",
        "    {\"role\": \"user\", \"content\": \"2002년 월드컵에서 가장 화제가 되었던 나라는 어디야?\"},\n",
        "    {\"role\": \"assistant\", \"content\": \"바로 예상을 뚫고 4강 진출 신화를 일으킨 한국입니다.\"},\n",
        "    {\"role\": \"user\", \"content\": \"그 나라가 화제가 되었던 이유를 자세하게 설명해줘\"}\n",
        "  ]\n",
        ")\n",
        "\n",
        "print(response['choices'][0]['message']['content'])"
      ],
      "metadata": {
        "colab": {
          "base_uri": "https://localhost:8080/"
        },
        "id": "BhM51aTaCzqI",
        "outputId": "306c914e-6cb4-40ff-bbf6-f7940f60192b"
      },
      "execution_count": 16,
      "outputs": [
        {
          "output_type": "stream",
          "name": "stdout",
          "text": [
            "한국이 2002년 월드컵에서 화제가 된 이유는 몇 가지가 있습니다.\n",
            "\n",
            "첫째, 한국은 이전 월드컵에서 큰 성과를 거두지 못했던 팀이었기 때문에 많은 사람들이 기대하지 않았습니다. 그러나 그들은 호주와 이탈리아를 상대로 승리를 거두며 조별리그에서 승점 7점을 기록하였습니다. 이로 인해 한국은 16강에 진출하게 되었습니다.\n",
            "\n",
            "둘째, 16강에서 맞선 이탈리아와의 경기는 매우 많은 화제를 불러일으켰습니다. 전반 13분에 한국은 조명구 선수의 골로 선제골을 기록하였고, 이후 이탈리아는 결승 토너먼트에 진출하기 위해 점수를 돌리려고 필요 이상의 공세를 펼쳤습니다. 그러나 한국의 수비가 훌륭하게 작동하면서 이탈리아의 확실한 골을 방어하였고, 한국은 경기 종료 10분 전에 안정적인 방어를 통해 이탈리아를 꺾고 1-0으로 이겼습니다.\n",
            "\n",
            "셋째, 한국은 4강에 진출하였으며, 이는 아시아 축구 팀 사상 처음으로의 성과였습니다. 이로써 한국은 아시아 축구 역사에 길이 남을 위업을 달성하였으며, 전 세계적으로 주목받게 되었습니다. 한국의 성과는 많은 축구 팬들에게 놀라움과 동시에 자부심을 심어주었습니다.\n",
            "\n",
            "이러한 이유들로 인해 한국은 2002년 월드컵에서 가장 화제가 되었던 나라로 기억되고 있습니다.\n"
          ]
        }
      ]
    },
    {
      "cell_type": "markdown",
      "source": [
        "presence_penalty = 0.0 ~ 2.0 / 과거단어 반복 빈도수 높아짐 (기본 0)  \n",
        "frequency_penalty = 0.0 ~ 2.0 / 같은단어가 나오지 않게 (기본 0)  \n",
        "n = 1 / 응답 갯수 (기본 1)  \n",
        "max_tokens / 최대 토큰수 제한\n",
        "stop = ['\\n', 'end of text'] / 토큰생성 중지 (기본 None)  \n",
        "temperature(온도조절)와 top_p(핵샘플링)의 차이점 : 낮은확률의 토큰을 높은확률로 변경 / 낮은확률의 토큰을 차단하여 결과의 무작위성을 줄임"
      ],
      "metadata": {
        "id": "4iIZa549C0Gq"
      }
    },
    {
      "cell_type": "code",
      "source": [
        "response = openai.ChatCompletion.create(\n",
        "  model=\"gpt-3.5-turbo\",\n",
        "  messages=[{\"role\": \"user\", \"content\": \"2002년 월드컵에서 가장 화제가 되었던 나라는 어디야?\"}],\n",
        "  temperature = 0,\n",
        "  max_tokens = 500\n",
        ")\n",
        "\n",
        "print(response['choices'][0]['message']['content'])"
      ],
      "metadata": {
        "colab": {
          "base_uri": "https://localhost:8080/"
        },
        "id": "c8raS45SC0Yg",
        "outputId": "0f4e222f-7d04-46c9-a8a8-8da21e57c437"
      },
      "execution_count": 15,
      "outputs": [
        {
          "output_type": "stream",
          "name": "stdout",
          "text": [
            "2002년 월드컵에서 가장 화제가 된 나라는 한국이었습니다. 한국은 월드컵 역사상 처음으로 준결승에 진출하여 세계적인 주목을 받았으며, 호주와 일본과 함께 공동 개최국으로서도 주목받았습니다. 한국은 토너먼트에서 세계 강호인 이탈리아와 스페인을 이기는 등 놀라운 경기력을 보여주었고, 4강에서 독일에 패해 결승 진출은 미치지 못했지만, 역사적인 성과를 이루었습니다. 이로 인해 한국은 월드컵 역사상 가장 화제가 된 나라 중 하나로 꼽힙니다.\n"
          ]
        }
      ]
    },
    {
      "cell_type": "code",
      "source": [
        "prompt = '''\n",
        "한국어를 영어로 번역해줘\n",
        "\n",
        "한국어 : 나는 사람이다.\n",
        "영어 :\n",
        "'''\n",
        "\n",
        "response = openai.ChatCompletion.create(\n",
        "  model=\"gpt-3.5-turbo\",\n",
        "  messages=[{\"role\": \"user\", \"content\": prompt}],\n",
        "  temperature = 0,\n",
        "  max_tokens = 500\n",
        ")\n",
        "\n",
        "print(response['choices'][0]['message']['content'])"
      ],
      "metadata": {
        "colab": {
          "base_uri": "https://localhost:8080/"
        },
        "id": "HBHYSRT_GVaI",
        "outputId": "ea4c6f15-9540-4310-eec1-fcdeb2fe3c0f"
      },
      "execution_count": 17,
      "outputs": [
        {
          "output_type": "stream",
          "name": "stdout",
          "text": [
            "I am a human.\n"
          ]
        }
      ]
    },
    {
      "cell_type": "markdown",
      "source": [
        "프로그램 생성"
      ],
      "metadata": {
        "id": "mlwSjgtYDPff"
      }
    },
    {
      "cell_type": "code",
      "source": [
        "prompt = 'sklearn에 내장된 iris 데이터를 이용해서 정확도를 분석하는 프로그램을 파이썬으로 구현해줘'\n",
        "\n",
        "response = openai.ChatCompletion.create(\n",
        "  model=\"gpt-3.5-turbo\",\n",
        "  messages=[{\"role\": \"user\", \"content\": prompt}],\n",
        "  temperature = 0,\n",
        "  max_tokens = 500\n",
        ")\n",
        "\n",
        "print(response['choices'][0]['message']['content'])"
      ],
      "metadata": {
        "colab": {
          "base_uri": "https://localhost:8080/"
        },
        "id": "YmFmrtxFDP7c",
        "outputId": "48695cc7-222c-4ff0-a62b-6f3957f421ae"
      },
      "execution_count": 18,
      "outputs": [
        {
          "output_type": "stream",
          "name": "stdout",
          "text": [
            "아래는 sklearn에 내장된 iris 데이터를 이용하여 정확도를 분석하는 파이썬 프로그램입니다.\n",
            "\n",
            "```python\n",
            "from sklearn.datasets import load_iris\n",
            "from sklearn.model_selection import train_test_split\n",
            "from sklearn.neighbors import KNeighborsClassifier\n",
            "from sklearn.metrics import accuracy_score\n",
            "\n",
            "# iris 데이터 로드\n",
            "iris = load_iris()\n",
            "X = iris.data\n",
            "y = iris.target\n",
            "\n",
            "# 데이터 분할\n",
            "X_train, X_test, y_train, y_test = train_test_split(X, y, test_size=0.2, random_state=42)\n",
            "\n",
            "# KNN 분류기 모델 생성\n",
            "knn = KNeighborsClassifier(n_neighbors=3)\n",
            "\n",
            "# 모델 학습\n",
            "knn.fit(X_train, y_train)\n",
            "\n",
            "# 예측\n",
            "y_pred = knn.predict(X_test)\n",
            "\n",
            "# 정확도 계산\n",
            "accuracy = accuracy_score(y_test, y_pred)\n",
            "print(\"정확도:\", accuracy)\n",
            "```\n",
            "\n",
            "위의 코드는 iris 데이터를 로드하고, 데이터를 학습용과 테스트용으로 분할한 후 KNN 분류기 모델을 생성하고 학습시킨 뒤, 테스트 데이터를 예측하여 정확도를 계산하는 과정을 보여줍니다. 정확도는 `accuracy_score` 함수를 사용하여 계산하며, 결과를 출력합니다.\n"
          ]
        }
      ]
    },
    {
      "cell_type": "markdown",
      "source": [
        "data 변수에 저장된 문자열의 길이를 구하는 프로그램을 자바로 구현해줘"
      ],
      "metadata": {
        "id": "kkLh4opEGrn1"
      }
    },
    {
      "cell_type": "code",
      "source": [
        "prompt = 'data 변수에 저장된 문자열의 길이를 구하는 프로그램을 자바로 구현해줘'\n",
        "\n",
        "response = openai.ChatCompletion.create(\n",
        "  model=\"gpt-3.5-turbo\",\n",
        "  messages=[{\"role\": \"user\", \"content\": prompt}],\n",
        "  temperature = 0,\n",
        "  max_tokens = 500\n",
        ")\n",
        "\n",
        "print(response['choices'][0]['message']['content'])"
      ],
      "metadata": {
        "colab": {
          "base_uri": "https://localhost:8080/"
        },
        "id": "HXfOQR_PGr4w",
        "outputId": "6bfc53ac-4878-45ba-ff4d-f39f5ffc96b5"
      },
      "execution_count": 19,
      "outputs": [
        {
          "output_type": "stream",
          "name": "stdout",
          "text": [
            "아래는 data 변수에 저장된 문자열의 길이를 구하는 자바 프로그램입니다.\n",
            "\n",
            "```java\n",
            "public class Main {\n",
            "    public static void main(String[] args) {\n",
            "        String data = \"Hello, World!\";\n",
            "        int length = data.length();\n",
            "        System.out.println(\"문자열의 길이: \" + length);\n",
            "    }\n",
            "}\n",
            "```\n",
            "\n",
            "위의 코드를 실행하면 \"Hello, World!\" 문자열의 길이인 13이 출력됩니다. data 변수에 원하는 문자열을 저장하고 실행하면 해당 문자열의 길이를 구할 수 있습니다.\n"
          ]
        }
      ]
    },
    {
      "cell_type": "markdown",
      "source": [
        "자바와 오라클을 연동해서 오라클의 employees의 데이터를 자바에서 가져와서 출력해주는 프로그램을 구현해줘"
      ],
      "metadata": {
        "id": "Ws92PecnI88T"
      }
    },
    {
      "cell_type": "code",
      "source": [
        "prompt = '자바와 오라클을 연동해서 오라클의 employees의 데이터를 자바에서 가져와서 출력해주는 프로그램을 구현해줘'\n",
        "\n",
        "response = openai.ChatCompletion.create(\n",
        "  model=\"gpt-3.5-turbo\",\n",
        "  messages=[{\"role\": \"user\", \"content\": prompt}],\n",
        "  temperature = 0,\n",
        "  max_tokens = 500\n",
        ")\n",
        "\n",
        "print(response['choices'][0]['message']['content'])"
      ],
      "metadata": {
        "colab": {
          "base_uri": "https://localhost:8080/"
        },
        "id": "VfPXJoBsJD6y",
        "outputId": "637e1ad5-5f3d-4271-f237-f715c8610a88"
      },
      "execution_count": 20,
      "outputs": [
        {
          "output_type": "stream",
          "name": "stdout",
          "text": [
            "아래는 자바와 오라클을 연동하여 employees 테이블의 데이터를 가져와서 출력하는 예제입니다.\n",
            "\n",
            "```java\n",
            "import java.sql.*;\n",
            "\n",
            "public class OracleConnectionExample {\n",
            "    public static void main(String[] args) {\n",
            "        // 오라클 데이터베이스 연결 정보\n",
            "        String url = \"jdbc:oracle:thin:@localhost:1521:xe\";\n",
            "        String username = \"사용자명\";\n",
            "        String password = \"비밀번호\";\n",
            "\n",
            "        // JDBC 드라이버 로드\n",
            "        try {\n",
            "            Class.forName(\"oracle.jdbc.driver.OracleDriver\");\n",
            "        } catch (ClassNotFoundException e) {\n",
            "            e.printStackTrace();\n",
            "        }\n",
            "\n",
            "        // 데이터베이스 연결\n",
            "        try (Connection conn = DriverManager.getConnection(url, username, password)) {\n",
            "            // SQL 쿼리 작성\n",
            "            String sql = \"SELECT * FROM employees\";\n",
            "\n",
            "            // SQL 쿼리 실행\n",
            "            try (Statement stmt = conn.createStatement();\n",
            "                 ResultSet rs = stmt.executeQuery(sql)) {\n",
            "                // 결과 출력\n",
            "                while (rs.next()) {\n",
            "                    int employeeId = rs.getInt(\"employee_id\");\n",
            "                    String firstName = rs.getString(\"first_name\");\n",
            "                    String lastName = rs.getString(\"last_name\");\n",
            "                    String email = rs.getString(\"email\");\n",
            "                    System.out.println(\"Employee ID: \" + employeeId);\n",
            "                    System.out.println(\"First Name: \" + firstName);\n",
            "                    System.out.println(\"Last Name: \" + lastName);\n",
            "                    System.out.println(\"Email: \" + email);\n",
            "                    System.out.println(\"--------------------\");\n",
            "                }\n",
            "            }\n",
            "        } catch (SQLException e) {\n",
            "            e.printStackTrace();\n",
            "        }\n",
            "    }\n",
            "}\n",
            "```\n",
            "\n",
            "위의 예제에서 `url`, `username`, `password` 변수에는 자신의 오라클 데이터베이스 연결 정보를 입력해야 합니다. 그리고 `employees` 테이블의 컬럼명에 따라 `rs.getInt(\"employee_id\")`, `rs.getString(\"first_name\")` 등으로 데이터를 가져올 수 있습니다.\n",
            "\n",
            "위의 코드를 실행하면 `employees` 테이블의 데이터가 자바에서 출력됩니다.\n"
          ]
        }
      ]
    },
    {
      "cell_type": "code",
      "source": [],
      "metadata": {
        "id": "enTLVV2ARR-C"
      },
      "execution_count": null,
      "outputs": []
    }
  ]
}