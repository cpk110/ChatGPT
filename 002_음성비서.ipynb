{
  "nbformat": 4,
  "nbformat_minor": 0,
  "metadata": {
    "colab": {
      "provenance": [],
      "authorship_tag": "ABX9TyPlOo07Wq/Na19vw57Berhi",
      "include_colab_link": true
    },
    "kernelspec": {
      "name": "python3",
      "display_name": "Python 3"
    },
    "language_info": {
      "name": "python"
    }
  },
  "cells": [
    {
      "cell_type": "markdown",
      "metadata": {
        "id": "view-in-github",
        "colab_type": "text"
      },
      "source": [
        "<a href=\"https://colab.research.google.com/github/cpk110/ChatGPT/blob/master/002_%EC%9D%8C%EC%84%B1%EB%B9%84%EC%84%9C.ipynb\" target=\"_parent\"><img src=\"https://colab.research.google.com/assets/colab-badge.svg\" alt=\"Open In Colab\"/></a>"
      ]
    },
    {
      "cell_type": "code",
      "execution_count": 1,
      "metadata": {
        "colab": {
          "base_uri": "https://localhost:8080/"
        },
        "id": "sjNHDK80OPpH",
        "outputId": "9553db21-8769-469e-ba3a-9ab0f9fc4145"
      },
      "outputs": [
        {
          "output_type": "stream",
          "name": "stdout",
          "text": [
            "Mounted at /content/drive\n",
            "/content/drive/MyDrive/ai_chatbot_python/ChatGPT\n"
          ]
        }
      ],
      "source": [
        "from google.colab import drive\n",
        "drive.mount('/content/drive')\n",
        "\n",
        "%cd '/content/drive/MyDrive/ai_chatbot_python/ChatGPT'"
      ]
    },
    {
      "cell_type": "markdown",
      "source": [
        "### 1. 텍스트를 음성 파일로 변환하는 gTTS 사용\n",
        "\n",
        "- 텍스트를 음성파일로 변환하는 TTS(Text-To-Speech)\n",
        "- TTS 기능을 구현하기 위해 gTTS라는 무료 TTS 패키지를 사용\n",
        "  - gTTS 공식 홈페이지 https://pypi.org/project/gTTS/\n",
        "  - 구글 클라우드의 유료 TTS 서비스 https://cloud.google.com/text-to-speech?hl=ko"
      ],
      "metadata": {
        "id": "CeCUh9gOOYYs"
      }
    },
    {
      "cell_type": "code",
      "source": [
        "# https://pypi.org/project/gTTS/\n",
        "!pip install gtts"
      ],
      "metadata": {
        "colab": {
          "base_uri": "https://localhost:8080/"
        },
        "id": "wrtxl47BOZOf",
        "outputId": "e9d59f4e-1716-4fa3-895c-54853d3ebbf0"
      },
      "execution_count": 1,
      "outputs": [
        {
          "output_type": "stream",
          "name": "stdout",
          "text": [
            "Collecting gtts\n",
            "  Downloading gTTS-2.5.0-py3-none-any.whl (29 kB)\n",
            "Requirement already satisfied: requests<3,>=2.27 in /usr/local/lib/python3.10/dist-packages (from gtts) (2.31.0)\n",
            "Requirement already satisfied: click<8.2,>=7.1 in /usr/local/lib/python3.10/dist-packages (from gtts) (8.1.7)\n",
            "Requirement already satisfied: charset-normalizer<4,>=2 in /usr/local/lib/python3.10/dist-packages (from requests<3,>=2.27->gtts) (3.3.2)\n",
            "Requirement already satisfied: idna<4,>=2.5 in /usr/local/lib/python3.10/dist-packages (from requests<3,>=2.27->gtts) (3.6)\n",
            "Requirement already satisfied: urllib3<3,>=1.21.1 in /usr/local/lib/python3.10/dist-packages (from requests<3,>=2.27->gtts) (2.0.7)\n",
            "Requirement already satisfied: certifi>=2017.4.17 in /usr/local/lib/python3.10/dist-packages (from requests<3,>=2.27->gtts) (2023.11.17)\n",
            "Installing collected packages: gtts\n",
            "Successfully installed gtts-2.5.0\n"
          ]
        }
      ]
    },
    {
      "cell_type": "code",
      "source": [
        "from gtts import gTTS\n",
        "\n",
        "tts = gTTS(text = '안녕하세요 음성비서 프로그램 실습중입니다.', lang = 'ko')\n",
        "tts.save('output.mp3')"
      ],
      "metadata": {
        "id": "mbFX4FfTOlU5"
      },
      "execution_count": 4,
      "outputs": []
    },
    {
      "cell_type": "markdown",
      "source": [
        "### 2. 음성 파일을  텍스트로 변환하는 Whisper API 사용\n",
        "\n",
        "- Whisper란  ChatGPT로 유명한 OpenAI에서 공개한 인공지능 모델로, 음성을 텍스트로 변환해 주는 Speech to Text(STT) 기술이다.\n",
        "- 약 68만 시간 분량의 방대한 데이터를 학습시켜 영어, 한국어를 포함한 다양한 언어를 인식할 수 있으며, 번역 및 언어 식별 기능이 있다.\n",
        "- Whisper 모델은 오픈소스로 공개돼 있으며 구체적인 모델의 구조는 공식 홈페이지에서 확인할 수 있다.\n",
        " -  https://openai.com/research/whisper\n",
        "- Whisper 가격\n",
        " - https://openai.com/pricing\n",
        "- OpenAI API reference\n",
        "  - https://platform.openai.com/docs/api-reference/audio\n",
        "  - Deprecated는 왠만하면 안쓰는게 좋음  \n",
        "  https://platform.openai.com/docs/api-reference/edits/create"
      ],
      "metadata": {
        "id": "A3XXQI83PqbI"
      }
    },
    {
      "cell_type": "code",
      "source": [
        "!pip install openai==0.28.1"
      ],
      "metadata": {
        "colab": {
          "base_uri": "https://localhost:8080/"
        },
        "id": "xljaEoMNPXH7",
        "outputId": "c50ad87c-2477-4e7e-e4ec-6c87787bd387"
      },
      "execution_count": 11,
      "outputs": [
        {
          "output_type": "stream",
          "name": "stdout",
          "text": [
            "Collecting openai==0.28.1\n",
            "  Downloading openai-0.28.1-py3-none-any.whl (76 kB)\n",
            "\u001b[2K     \u001b[90m━━━━━━━━━━━━━━━━━━━━━━━━━━━━━━━━━━━━━━━━\u001b[0m \u001b[32m77.0/77.0 kB\u001b[0m \u001b[31m1.3 MB/s\u001b[0m eta \u001b[36m0:00:00\u001b[0m\n",
            "\u001b[?25hRequirement already satisfied: requests>=2.20 in /usr/local/lib/python3.10/dist-packages (from openai==0.28.1) (2.31.0)\n",
            "Requirement already satisfied: tqdm in /usr/local/lib/python3.10/dist-packages (from openai==0.28.1) (4.66.1)\n",
            "Requirement already satisfied: aiohttp in /usr/local/lib/python3.10/dist-packages (from openai==0.28.1) (3.9.1)\n",
            "Requirement already satisfied: charset-normalizer<4,>=2 in /usr/local/lib/python3.10/dist-packages (from requests>=2.20->openai==0.28.1) (3.3.2)\n",
            "Requirement already satisfied: idna<4,>=2.5 in /usr/local/lib/python3.10/dist-packages (from requests>=2.20->openai==0.28.1) (3.6)\n",
            "Requirement already satisfied: urllib3<3,>=1.21.1 in /usr/local/lib/python3.10/dist-packages (from requests>=2.20->openai==0.28.1) (2.0.7)\n",
            "Requirement already satisfied: certifi>=2017.4.17 in /usr/local/lib/python3.10/dist-packages (from requests>=2.20->openai==0.28.1) (2023.11.17)\n",
            "Requirement already satisfied: attrs>=17.3.0 in /usr/local/lib/python3.10/dist-packages (from aiohttp->openai==0.28.1) (23.1.0)\n",
            "Requirement already satisfied: multidict<7.0,>=4.5 in /usr/local/lib/python3.10/dist-packages (from aiohttp->openai==0.28.1) (6.0.4)\n",
            "Requirement already satisfied: yarl<2.0,>=1.0 in /usr/local/lib/python3.10/dist-packages (from aiohttp->openai==0.28.1) (1.9.4)\n",
            "Requirement already satisfied: frozenlist>=1.1.1 in /usr/local/lib/python3.10/dist-packages (from aiohttp->openai==0.28.1) (1.4.1)\n",
            "Requirement already satisfied: aiosignal>=1.1.2 in /usr/local/lib/python3.10/dist-packages (from aiohttp->openai==0.28.1) (1.3.1)\n",
            "Requirement already satisfied: async-timeout<5.0,>=4.0 in /usr/local/lib/python3.10/dist-packages (from aiohttp->openai==0.28.1) (4.0.3)\n",
            "Installing collected packages: openai\n",
            "\u001b[31mERROR: pip's dependency resolver does not currently take into account all the packages that are installed. This behaviour is the source of the following dependency conflicts.\n",
            "llmx 0.0.15a0 requires cohere, which is not installed.\n",
            "llmx 0.0.15a0 requires tiktoken, which is not installed.\u001b[0m\u001b[31m\n",
            "\u001b[0mSuccessfully installed openai-0.28.1\n"
          ]
        }
      ]
    },
    {
      "cell_type": "code",
      "source": [
        "import openai\n",
        "\n",
        "# API 키 입력\n",
        "# openai.api_key = 'OpenAI API Key'\n",
        "openai.api_key = 'OpenAI API Key'\n",
        "\n",
        "# 녹음파일 열기\n",
        "audio_file = open('output.mp3', 'rb')\n",
        "\n",
        "# whisper 모델에 음원파일 전달하기 / 실행시 과금 발생\n",
        "transcript = openai.Audio.transcribe('whisper-1', audio_file)\n",
        "print(dir(transcript))\n",
        "\n",
        "# 결과보기\n",
        "print(transcript['text'])"
      ],
      "metadata": {
        "id": "neZ6poEXSaBp"
      },
      "execution_count": null,
      "outputs": []
    },
    {
      "cell_type": "markdown",
      "source": [
        "### 3. 프로그램 UI를 생성하는 스트림릿 사용\n",
        "\n",
        "- https://docs.streamlit.io\n",
        "- 스트림릿(Streamlit)은 데이터 과학, 머신러닝, 분석 프로젝트를 위한 웹 어플리케이션을 만드는 과정을 간소화하고, 신속하게 웹 애플리케이션을 만들 수 있게 설계된 오픈소스이다.\n",
        "- 사용자가 앱을 사용할 때 실제로 보는 타이틀, 버튼과 같은 UI를 손쉽게 만들 수 있으며, 직관적이고 사용자 친화적인 프레임워크이다.\n",
        "- 스트림릿을 활용하면 웹 개발에 대한 광범위한 지식이 없더라도 간단한 파이썬 스크립트 작성으로 애플리케이션을 빠르게 구축할 수 있다.\n",
        "- 스트림릿 주요 기능과 장점\n",
        "  - 간단한 사용법 : 스트림릿의 문법은 매우 간단하여 파이썬을 기초 수준으로 이해하는 사용자라면 손쉽게 사용할 수 있다.\n",
        "  - 빠른 개발 속도 : 웹 애플리케이션을 빠르게 빌드할 수 있으며, 반복적인 프로토타이핑과 배포 속도를 높일 수 있다.\n",
        "  - 뛰어난 인터렉티브 기능 : 스트림릿에 내장된 위젯을 사용하면 최소한의 코딩으로 사용자와 원활한 상호 작용이 가능하다.\n",
        "  - 시각적 사용자 정의 기능 : 스트림릿은 Matplotlib, Plotly, Altair와 같이 널리 사용되는 데이터 시각화 라이브러리를 쉽게 통합할 수 있어 다양한 시각적 사용자 정의가 가능하다.\n",
        "  - 실시간 업데이트 : 코드를 수정하면 스트림릿 애플리케이션이 자동 업데이트되어 효율적인 개발 환경을 제공한다.\n",
        "  - 간편한 공유 기능 : 간소화된 배포 프로세스를 제공하여 다른 사용자에게 애플리케이션을 쉽게 공유할 수 있다.\n",
        "\n",
        "---\n",
        "\n",
        "<center>\n",
        "\n",
        "|기능|Streamlit|Django|Flask|\n",
        "|:---:|:---:|:---:|:---:|\n",
        "|데이터 과학 및 <br>머신 러닝에 특화| ㅇ | X | X |\n",
        "|사용의 용이성|높음<br>(최소한의 코딩 필요) | 중간<br>(많은 학습 필요)|중간<br>(웹 개발 이해 필요)|\n",
        "|웹 개발 지식 필요여부| X | ㅇ | ㅇ |\n",
        "\n",
        "</center>\n",
        "\n",
        "---\n",
        "\n",
        "- 스트림릿 기본 함수\n",
        "  - st.title( ) : 앱에 제목을 생성한다.\n",
        "  - st.header( ) : 앱에 헤더를 생성한다.\n",
        "  - st.subheader( ) : 앱에 서브헤더를 생성한다.\n",
        "  - st.text( ) : 앱에 일반 텍스트를 생성한다.\n",
        "  - st.write( ) : 앱에 텍스트나 데이터를 생성한다. 이 함수를 다용도로 사용할 수 있으며 텍스트, 데이터 프레임 또는 플롯을 표시할 수 있다."
      ],
      "metadata": {
        "id": "hKyvhde0T925"
      }
    },
    {
      "cell_type": "code",
      "source": [
        "!pip install streamlit\n",
        "!pip install pyngrok"
      ],
      "metadata": {
        "colab": {
          "base_uri": "https://localhost:8080/"
        },
        "id": "kd9oxlqYSofB",
        "outputId": "29cfd2fb-a377-4e3c-d052-d6a3ffe48da7"
      },
      "execution_count": 2,
      "outputs": [
        {
          "output_type": "stream",
          "name": "stdout",
          "text": [
            "Collecting streamlit\n",
            "  Downloading streamlit-1.29.0-py2.py3-none-any.whl (8.4 MB)\n",
            "\u001b[2K     \u001b[90m━━━━━━━━━━━━━━━━━━━━━━━━━━━━━━━━━━━━━━━━\u001b[0m \u001b[32m8.4/8.4 MB\u001b[0m \u001b[31m28.8 MB/s\u001b[0m eta \u001b[36m0:00:00\u001b[0m\n",
            "\u001b[?25hRequirement already satisfied: altair<6,>=4.0 in /usr/local/lib/python3.10/dist-packages (from streamlit) (4.2.2)\n",
            "Requirement already satisfied: blinker<2,>=1.0.0 in /usr/lib/python3/dist-packages (from streamlit) (1.4)\n",
            "Requirement already satisfied: cachetools<6,>=4.0 in /usr/local/lib/python3.10/dist-packages (from streamlit) (5.3.2)\n",
            "Requirement already satisfied: click<9,>=7.0 in /usr/local/lib/python3.10/dist-packages (from streamlit) (8.1.7)\n",
            "Collecting importlib-metadata<7,>=1.4 (from streamlit)\n",
            "  Downloading importlib_metadata-6.11.0-py3-none-any.whl (23 kB)\n",
            "Requirement already satisfied: numpy<2,>=1.19.3 in /usr/local/lib/python3.10/dist-packages (from streamlit) (1.23.5)\n",
            "Requirement already satisfied: packaging<24,>=16.8 in /usr/local/lib/python3.10/dist-packages (from streamlit) (23.2)\n",
            "Requirement already satisfied: pandas<3,>=1.3.0 in /usr/local/lib/python3.10/dist-packages (from streamlit) (1.5.3)\n",
            "Requirement already satisfied: pillow<11,>=7.1.0 in /usr/local/lib/python3.10/dist-packages (from streamlit) (9.4.0)\n",
            "Requirement already satisfied: protobuf<5,>=3.20 in /usr/local/lib/python3.10/dist-packages (from streamlit) (3.20.3)\n",
            "Requirement already satisfied: pyarrow>=6.0 in /usr/local/lib/python3.10/dist-packages (from streamlit) (10.0.1)\n",
            "Requirement already satisfied: python-dateutil<3,>=2.7.3 in /usr/local/lib/python3.10/dist-packages (from streamlit) (2.8.2)\n",
            "Requirement already satisfied: requests<3,>=2.27 in /usr/local/lib/python3.10/dist-packages (from streamlit) (2.31.0)\n",
            "Requirement already satisfied: rich<14,>=10.14.0 in /usr/local/lib/python3.10/dist-packages (from streamlit) (13.7.0)\n",
            "Requirement already satisfied: tenacity<9,>=8.1.0 in /usr/local/lib/python3.10/dist-packages (from streamlit) (8.2.3)\n",
            "Requirement already satisfied: toml<2,>=0.10.1 in /usr/local/lib/python3.10/dist-packages (from streamlit) (0.10.2)\n",
            "Requirement already satisfied: typing-extensions<5,>=4.3.0 in /usr/local/lib/python3.10/dist-packages (from streamlit) (4.5.0)\n",
            "Requirement already satisfied: tzlocal<6,>=1.1 in /usr/local/lib/python3.10/dist-packages (from streamlit) (5.2)\n",
            "Collecting validators<1,>=0.2 (from streamlit)\n",
            "  Downloading validators-0.22.0-py3-none-any.whl (26 kB)\n",
            "Collecting gitpython!=3.1.19,<4,>=3.0.7 (from streamlit)\n",
            "  Downloading GitPython-3.1.40-py3-none-any.whl (190 kB)\n",
            "\u001b[2K     \u001b[90m━━━━━━━━━━━━━━━━━━━━━━━━━━━━━━━━━━━━━━━━\u001b[0m \u001b[32m190.6/190.6 kB\u001b[0m \u001b[31m20.0 MB/s\u001b[0m eta \u001b[36m0:00:00\u001b[0m\n",
            "\u001b[?25hCollecting pydeck<1,>=0.8.0b4 (from streamlit)\n",
            "  Downloading pydeck-0.8.1b0-py2.py3-none-any.whl (4.8 MB)\n",
            "\u001b[2K     \u001b[90m━━━━━━━━━━━━━━━━━━━━━━━━━━━━━━━━━━━━━━━━\u001b[0m \u001b[32m4.8/4.8 MB\u001b[0m \u001b[31m64.3 MB/s\u001b[0m eta \u001b[36m0:00:00\u001b[0m\n",
            "\u001b[?25hRequirement already satisfied: tornado<7,>=6.0.3 in /usr/local/lib/python3.10/dist-packages (from streamlit) (6.3.2)\n",
            "Collecting watchdog>=2.1.5 (from streamlit)\n",
            "  Downloading watchdog-3.0.0-py3-none-manylinux2014_x86_64.whl (82 kB)\n",
            "\u001b[2K     \u001b[90m━━━━━━━━━━━━━━━━━━━━━━━━━━━━━━━━━━━━━━━━\u001b[0m \u001b[32m82.1/82.1 kB\u001b[0m \u001b[31m9.4 MB/s\u001b[0m eta \u001b[36m0:00:00\u001b[0m\n",
            "\u001b[?25hRequirement already satisfied: entrypoints in /usr/local/lib/python3.10/dist-packages (from altair<6,>=4.0->streamlit) (0.4)\n",
            "Requirement already satisfied: jinja2 in /usr/local/lib/python3.10/dist-packages (from altair<6,>=4.0->streamlit) (3.1.2)\n",
            "Requirement already satisfied: jsonschema>=3.0 in /usr/local/lib/python3.10/dist-packages (from altair<6,>=4.0->streamlit) (4.19.2)\n",
            "Requirement already satisfied: toolz in /usr/local/lib/python3.10/dist-packages (from altair<6,>=4.0->streamlit) (0.12.0)\n",
            "Collecting gitdb<5,>=4.0.1 (from gitpython!=3.1.19,<4,>=3.0.7->streamlit)\n",
            "  Downloading gitdb-4.0.11-py3-none-any.whl (62 kB)\n",
            "\u001b[2K     \u001b[90m━━━━━━━━━━━━━━━━━━━━━━━━━━━━━━━━━━━━━━━━\u001b[0m \u001b[32m62.7/62.7 kB\u001b[0m \u001b[31m7.9 MB/s\u001b[0m eta \u001b[36m0:00:00\u001b[0m\n",
            "\u001b[?25hRequirement already satisfied: zipp>=0.5 in /usr/local/lib/python3.10/dist-packages (from importlib-metadata<7,>=1.4->streamlit) (3.17.0)\n",
            "Requirement already satisfied: pytz>=2020.1 in /usr/local/lib/python3.10/dist-packages (from pandas<3,>=1.3.0->streamlit) (2023.3.post1)\n",
            "Requirement already satisfied: six>=1.5 in /usr/local/lib/python3.10/dist-packages (from python-dateutil<3,>=2.7.3->streamlit) (1.16.0)\n",
            "Requirement already satisfied: charset-normalizer<4,>=2 in /usr/local/lib/python3.10/dist-packages (from requests<3,>=2.27->streamlit) (3.3.2)\n",
            "Requirement already satisfied: idna<4,>=2.5 in /usr/local/lib/python3.10/dist-packages (from requests<3,>=2.27->streamlit) (3.6)\n",
            "Requirement already satisfied: urllib3<3,>=1.21.1 in /usr/local/lib/python3.10/dist-packages (from requests<3,>=2.27->streamlit) (2.0.7)\n",
            "Requirement already satisfied: certifi>=2017.4.17 in /usr/local/lib/python3.10/dist-packages (from requests<3,>=2.27->streamlit) (2023.11.17)\n",
            "Requirement already satisfied: markdown-it-py>=2.2.0 in /usr/local/lib/python3.10/dist-packages (from rich<14,>=10.14.0->streamlit) (3.0.0)\n",
            "Requirement already satisfied: pygments<3.0.0,>=2.13.0 in /usr/local/lib/python3.10/dist-packages (from rich<14,>=10.14.0->streamlit) (2.16.1)\n",
            "Collecting smmap<6,>=3.0.1 (from gitdb<5,>=4.0.1->gitpython!=3.1.19,<4,>=3.0.7->streamlit)\n",
            "  Downloading smmap-5.0.1-py3-none-any.whl (24 kB)\n",
            "Requirement already satisfied: MarkupSafe>=2.0 in /usr/local/lib/python3.10/dist-packages (from jinja2->altair<6,>=4.0->streamlit) (2.1.3)\n",
            "Requirement already satisfied: attrs>=22.2.0 in /usr/local/lib/python3.10/dist-packages (from jsonschema>=3.0->altair<6,>=4.0->streamlit) (23.1.0)\n",
            "Requirement already satisfied: jsonschema-specifications>=2023.03.6 in /usr/local/lib/python3.10/dist-packages (from jsonschema>=3.0->altair<6,>=4.0->streamlit) (2023.11.2)\n",
            "Requirement already satisfied: referencing>=0.28.4 in /usr/local/lib/python3.10/dist-packages (from jsonschema>=3.0->altair<6,>=4.0->streamlit) (0.32.0)\n",
            "Requirement already satisfied: rpds-py>=0.7.1 in /usr/local/lib/python3.10/dist-packages (from jsonschema>=3.0->altair<6,>=4.0->streamlit) (0.15.2)\n",
            "Requirement already satisfied: mdurl~=0.1 in /usr/local/lib/python3.10/dist-packages (from markdown-it-py>=2.2.0->rich<14,>=10.14.0->streamlit) (0.1.2)\n",
            "Installing collected packages: watchdog, validators, smmap, importlib-metadata, pydeck, gitdb, gitpython, streamlit\n",
            "  Attempting uninstall: importlib-metadata\n",
            "    Found existing installation: importlib-metadata 7.0.0\n",
            "    Uninstalling importlib-metadata-7.0.0:\n",
            "      Successfully uninstalled importlib-metadata-7.0.0\n",
            "Successfully installed gitdb-4.0.11 gitpython-3.1.40 importlib-metadata-6.11.0 pydeck-0.8.1b0 smmap-5.0.1 streamlit-1.29.0 validators-0.22.0 watchdog-3.0.0\n",
            "Collecting pyngrok\n",
            "  Downloading pyngrok-7.0.3-py3-none-any.whl (21 kB)\n",
            "Requirement already satisfied: PyYAML in /usr/local/lib/python3.10/dist-packages (from pyngrok) (6.0.1)\n",
            "Installing collected packages: pyngrok\n",
            "Successfully installed pyngrok-7.0.3\n"
          ]
        }
      ]
    },
    {
      "cell_type": "code",
      "source": [
        "%%writefile streamlit_example.py\n",
        "import streamlit as st\n",
        "\n",
        "st.title('나의 첫번째 Streamlit 앱')\n",
        "# st.title('나의 첫번째 Streamlit 앱', help = 'test')\n",
        "\n",
        "st.header('Streamlit에 오신 것을 환영합니다.')\n",
        "st.subheader('웹 앱을 만들기 위한 강력하고 사용하기 쉬운 라이브러리')\n",
        "\n",
        "st.text('이것은 일반 텍스트입니다.')\n",
        "\n",
        "st.write('write() 함수를 사용하여 텍스트, 데이터 또는 플롯을 표시 할 수도 있습니다.')"
      ],
      "metadata": {
        "colab": {
          "base_uri": "https://localhost:8080/"
        },
        "id": "dNif8jBIVIi5",
        "outputId": "edab0743-aae1-4eb1-eadd-615ea6103960"
      },
      "execution_count": 3,
      "outputs": [
        {
          "output_type": "stream",
          "name": "stdout",
          "text": [
            "Overwriting streamlit_example.py\n"
          ]
        }
      ]
    },
    {
      "cell_type": "code",
      "source": [
        "# Ngrok은 외부(Public)에서 로컬에 접속 할 수 있게 도와주는 터널링 프로그램이다.\n",
        "from pyngrok import ngrok\n",
        "\n",
        "port = 5000\n",
        "ngrok.set_auth_token('2ZQG7DwzgyOhyIhJ3i54ph0ml5z_4KR516HkbvRrKQ91L56kYS')\n",
        "print(dir(ngrok.connect(port)))\n",
        "public_url = ngrok.connect(port).public_url\n",
        "print('click', public_url)\n",
        "\n",
        "\n",
        "# !streamlit run /content/drive/MyDrive/ai_chatbot_python/ChatGPT/streamlit_example.py --server.port=5000\n",
        "!streamlit run streamlit_example.py --server.port=5000"
      ],
      "metadata": {
        "colab": {
          "base_uri": "https://localhost:8080/"
        },
        "id": "Z9EolkThWOeB",
        "outputId": "c0512b75-5a93-4aaf-8433-9007e01b04af"
      },
      "execution_count": 4,
      "outputs": [
        {
          "output_type": "stream",
          "name": "stdout",
          "text": [
            "['__class__', '__delattr__', '__dict__', '__dir__', '__doc__', '__eq__', '__format__', '__ge__', '__getattribute__', '__gt__', '__hash__', '__init__', '__init_subclass__', '__le__', '__lt__', '__module__', '__ne__', '__new__', '__reduce__', '__reduce_ex__', '__repr__', '__setattr__', '__sizeof__', '__str__', '__subclasshook__', '__weakref__', 'api_url', 'config', 'data', 'id', 'metrics', 'name', 'proto', 'public_url', 'pyngrok_config', 'refresh_metrics', 'uri']\n",
            "click https://3afd-35-221-190-138.ngrok-free.app\n",
            "\n",
            "Collecting usage statistics. To deactivate, set browser.gatherUsageStats to False.\n",
            "\u001b[0m\n",
            "\u001b[0m\n",
            "\u001b[34m\u001b[1m  You can now view your Streamlit app in your browser.\u001b[0m\n",
            "\u001b[0m\n",
            "\u001b[34m  Network URL: \u001b[0m\u001b[1mhttp://172.28.0.12:5000\u001b[0m\n",
            "\u001b[34m  External URL: \u001b[0m\u001b[1mhttp://35.221.190.138:5000\u001b[0m\n",
            "\u001b[0m\n",
            "\u001b[34m  Stopping...\u001b[0m\n",
            "^C\n"
          ]
        }
      ]
    },
    {
      "cell_type": "markdown",
      "source": [
        "### 1. 스트림릿으로 음성 비서 프로그램의 UI 만들기\n",
        "\n",
        "- 기본 설명 영역 : 제목과 기본 정보를 설명하는 영역이다.\n",
        "- 옵션 선택 영역 : OpenAI API 키를 입력받고, GPT 모델을 선택하기 위한 라디오 버튼과 초기화 버튼이 있는 영역이다.\n",
        "- 기능 구현 영역 : 음성을 녹음하고, 녹음한 음성을 재생하는 기능과 이를 채팅창 화면으로 보여주는 영역이다."
      ],
      "metadata": {
        "id": "i8oj1cIVZykU"
      }
    },
    {
      "cell_type": "markdown",
      "source": [
        "기본 설명 영역 구현하기"
      ],
      "metadata": {
        "id": "MfWW_MvzZ5Ap"
      }
    },
    {
      "cell_type": "code",
      "source": [
        "%%writefile voicebot.py\n",
        "### 기본 정보 입력 ###\n",
        "import streamlit as st\n",
        "\n",
        "### 메인함수 ###\n",
        "def main():\n",
        "\n",
        "  # 기본설정\n",
        "  st.set_page_config(\n",
        "      page_title = '음성 비서 프로그램',\n",
        "      layout = 'wide'\n",
        "  )\n",
        "\n",
        "  # 제목\n",
        "  st.header('음성 비서 프로그램')\n",
        "\n",
        "  # 구분선\n",
        "  st.markdown('----------------')\n",
        "\n",
        "  # 기본설명\n",
        "  with st.expander('음성비서 프로그램에 관하여', expanded = True):\n",
        "    st.write(\n",
        "        '''\n",
        "        - 음성 비서 프로그램의 UI는 스트림릿을 활용했다.\n",
        "        - STT(Speech-To-Text)는 OpenAI의 Whisper AI를 활용했다.\n",
        "        '''\n",
        "    )\n",
        "\n",
        "if __name__ == '__main__':\n",
        "  main()"
      ],
      "metadata": {
        "colab": {
          "base_uri": "https://localhost:8080/"
        },
        "id": "VsiR2hW2XpRx",
        "outputId": "b50bf30b-a7cc-496d-dc7c-d646e8054581"
      },
      "execution_count": 5,
      "outputs": [
        {
          "output_type": "stream",
          "name": "stdout",
          "text": [
            "Writing voicebot.py\n"
          ]
        }
      ]
    },
    {
      "cell_type": "code",
      "source": [
        "# Ngrok은 외부(Public)에서 로컬에 접속 할 수 있게 도와주는 터널링 프로그램이다.\n",
        "from pyngrok import ngrok\n",
        "\n",
        "port = 5000\n",
        "ngrok.set_auth_token('2ZQG7DwzgyOhyIhJ3i54ph0ml5z_4KR516HkbvRrKQ91L56kYS')\n",
        "print(dir(ngrok.connect(port)))\n",
        "public_url = ngrok.connect(port).public_url\n",
        "print('click', public_url)\n",
        "\n",
        "\n",
        "# !streamlit run /content/drive/MyDrive/ai_chatbot_python/ChatGPT/voicebot.py --server.port=5000\n",
        "!streamlit run voicebot.py --server.port=5000  # --server.port=5000는 붙여서 적어야함"
      ],
      "metadata": {
        "colab": {
          "base_uri": "https://localhost:8080/"
        },
        "id": "W28FlDSybjwZ",
        "outputId": "0618b975-3966-4af3-e35d-be079362da2b"
      },
      "execution_count": 6,
      "outputs": [
        {
          "output_type": "stream",
          "name": "stdout",
          "text": [
            "['__class__', '__delattr__', '__dict__', '__dir__', '__doc__', '__eq__', '__format__', '__ge__', '__getattribute__', '__gt__', '__hash__', '__init__', '__init_subclass__', '__le__', '__lt__', '__module__', '__ne__', '__new__', '__reduce__', '__reduce_ex__', '__repr__', '__setattr__', '__sizeof__', '__str__', '__subclasshook__', '__weakref__', 'api_url', 'config', 'data', 'id', 'metrics', 'name', 'proto', 'public_url', 'pyngrok_config', 'refresh_metrics', 'uri']\n",
            "click https://a1c1-35-221-190-138.ngrok-free.app\n",
            "\n",
            "Collecting usage statistics. To deactivate, set browser.gatherUsageStats to False.\n",
            "\u001b[0m\n",
            "\u001b[0m\n",
            "\u001b[34m\u001b[1m  You can now view your Streamlit app in your browser.\u001b[0m\n",
            "\u001b[0m\n",
            "\u001b[34m  Network URL: \u001b[0m\u001b[1mhttp://172.28.0.12:5000\u001b[0m\n",
            "\u001b[34m  External URL: \u001b[0m\u001b[1mhttp://35.221.190.138:5000\u001b[0m\n",
            "\u001b[0m\n",
            "\u001b[34m  Stopping...\u001b[0m\n",
            "\u001b[34m  Stopping...\u001b[0m\n"
          ]
        }
      ]
    },
    {
      "cell_type": "markdown",
      "source": [
        "옵션영역 선택하기"
      ],
      "metadata": {
        "id": "nFxichyfcqAP"
      }
    },
    {
      "cell_type": "code",
      "source": [
        "%%writefile voicebot2.py\n",
        "### 기본 정보 입력 ###\n",
        "import streamlit as st\n",
        "import openai\n",
        "\n",
        "### 메인함수 ###\n",
        "def main():\n",
        "\n",
        "  # 기본설정\n",
        "  st.set_page_config(\n",
        "      page_title = '음성 비서 프로그램',\n",
        "      layout = 'wide'\n",
        "  )\n",
        "\n",
        "  # 제목\n",
        "  st.header('음성 비서 프로그램')\n",
        "\n",
        "  # 구분선\n",
        "  st.markdown('----------------')\n",
        "\n",
        "  # 기본설명\n",
        "  with st.expander('음성비서 프로그램에 관하여', expanded = True):\n",
        "    st.write(\n",
        "        '''\n",
        "        - 음성 비서 프로그램의 UI는 스트림릿을 활용했다.\n",
        "        - STT(Speech-To-Text)는 OpenAI의 Whisper AI를 활용했다.\n",
        "        '''\n",
        "    )\n",
        "\n",
        "  ##################################################################\n",
        "\n",
        "  # 사이드바 설명\n",
        "  with st.sidebar:\n",
        "    # OpenAI API Key 입력받기\n",
        "    openai.api_key = st.text_input(label = 'OpenAI API Key', placeholder = 'sk-abcdefghijklmnopqrstuvwxyz', value = '', type = 'password')\n",
        "    # openai.api_key = st.text_input(label = 'OpenAI API Key', placeholder = 'Enter Your API Key', value = '', type = 'password')\n",
        "\n",
        "    st.markdown('----------------')\n",
        "\n",
        "    # GPT 모델을 선택하기 위한 라디오 버튼 생성\n",
        "    model = st.radio(label = 'GPT 모델', options = ['gpt-4', 'gpt-3.5-turbo'], index = 1)\n",
        "\n",
        "    st.markdown('----------------')\n",
        "\n",
        "    # 리셋버튼 생성\n",
        "    if st.button(label = '초기화'):\n",
        "      pass\n",
        "\n",
        "  ##################################################################\n",
        "\n",
        "if __name__ == '__main__':\n",
        "  main()"
      ],
      "metadata": {
        "colab": {
          "base_uri": "https://localhost:8080/"
        },
        "id": "GOVRVKh6cEKc",
        "outputId": "f6c325b4-b1d6-4ff8-9a47-e521329f9ad2"
      },
      "execution_count": 15,
      "outputs": [
        {
          "output_type": "stream",
          "name": "stdout",
          "text": [
            "Overwriting voicebot2.py\n"
          ]
        }
      ]
    },
    {
      "cell_type": "code",
      "source": [
        "# Ngrok은 외부(Public)에서 로컬에 접속 할 수 있게 도와주는 터널링 프로그램이다.\n",
        "from pyngrok import ngrok\n",
        "\n",
        "port = 5000\n",
        "ngrok.set_auth_token('2ZQG7DwzgyOhyIhJ3i54ph0ml5z_4KR516HkbvRrKQ91L56kYS')\n",
        "print(dir(ngrok.connect(port)))\n",
        "public_url = ngrok.connect(port).public_url\n",
        "print('click', public_url)\n",
        "\n",
        "\n",
        "# !streamlit run /content/drive/MyDrive/ai_chatbot_python/ChatGPT/voicebot.py --server.port=5000\n",
        "!streamlit run voicebot2.py --server.port=5000  # --server.port=5000는 붙여서 적어야함"
      ],
      "metadata": {
        "colab": {
          "base_uri": "https://localhost:8080/"
        },
        "id": "ICULhXzheAVS",
        "outputId": "8f90be7c-c06c-40a2-960b-f30fdb07e70e"
      },
      "execution_count": 16,
      "outputs": [
        {
          "output_type": "stream",
          "name": "stdout",
          "text": [
            "['__class__', '__delattr__', '__dict__', '__dir__', '__doc__', '__eq__', '__format__', '__ge__', '__getattribute__', '__gt__', '__hash__', '__init__', '__init_subclass__', '__le__', '__lt__', '__module__', '__ne__', '__new__', '__reduce__', '__reduce_ex__', '__repr__', '__setattr__', '__sizeof__', '__str__', '__subclasshook__', '__weakref__', 'api_url', 'config', 'data', 'id', 'metrics', 'name', 'proto', 'public_url', 'pyngrok_config', 'refresh_metrics', 'uri']\n",
            "click https://8c7e-35-221-190-138.ngrok-free.app\n",
            "\n",
            "Collecting usage statistics. To deactivate, set browser.gatherUsageStats to False.\n",
            "\u001b[0m\n",
            "\u001b[0m\n",
            "\u001b[34m\u001b[1m  You can now view your Streamlit app in your browser.\u001b[0m\n",
            "\u001b[0m\n",
            "\u001b[34m  Network URL: \u001b[0m\u001b[1mhttp://172.28.0.12:5000\u001b[0m\n",
            "\u001b[34m  External URL: \u001b[0m\u001b[1mhttp://35.221.190.138:5000\u001b[0m\n",
            "\u001b[0m\n",
            "\u001b[34m  Stopping...\u001b[0m\n",
            "\u001b[34m  Stopping...\u001b[0m\n",
            "Exception ignored in: <module 'threading' from '/usr/lib/python3.10/threading.py'>\n",
            "Traceback (most recent call last):\n",
            "  File \"/usr/lib/python3.10/threading.py\", line 1518, in _shutdown\n",
            "    def _shutdown():\n",
            "  File \"/usr/local/lib/python3.10/dist-packages/streamlit/web/bootstrap.py\", line 69, in signal_handler\n",
            "    server.stop()\n",
            "  File \"/usr/local/lib/python3.10/dist-packages/streamlit/web/server/server.py\", line 397, in stop\n",
            "    self._runtime.stop()\n",
            "  File \"/usr/local/lib/python3.10/dist-packages/streamlit/runtime/runtime.py\", line 308, in stop\n",
            "    async_objs.eventloop.call_soon_threadsafe(stop_on_eventloop)\n",
            "  File \"/usr/lib/python3.10/asyncio/base_events.py\", line 798, in call_soon_threadsafe\n",
            "    self._check_closed()\n",
            "  File \"/usr/lib/python3.10/asyncio/base_events.py\", line 515, in _check_closed\n",
            "    raise RuntimeError('Event loop is closed')\n",
            "RuntimeError: Event loop is closed\n"
          ]
        }
      ]
    },
    {
      "cell_type": "code",
      "source": [],
      "metadata": {
        "id": "NnX2KApyeJsZ"
      },
      "execution_count": null,
      "outputs": []
    }
  ]
}