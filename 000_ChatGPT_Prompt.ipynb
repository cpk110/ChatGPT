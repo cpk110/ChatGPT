{
  "nbformat": 4,
  "nbformat_minor": 0,
  "metadata": {
    "colab": {
      "provenance": [],
      "authorship_tag": "ABX9TyN0bzz2HGoCwkRTGBGWfvqV",
      "include_colab_link": true
    },
    "kernelspec": {
      "name": "python3",
      "display_name": "Python 3"
    },
    "language_info": {
      "name": "python"
    }
  },
  "cells": [
    {
      "cell_type": "markdown",
      "metadata": {
        "id": "view-in-github",
        "colab_type": "text"
      },
      "source": [
        "<a href=\"https://colab.research.google.com/github/cpk110/ChatGPT/blob/master/000_ChatGPT_Prompt.ipynb\" target=\"_parent\"><img src=\"https://colab.research.google.com/assets/colab-badge.svg\" alt=\"Open In Colab\"/></a>"
      ]
    },
    {
      "cell_type": "markdown",
      "source": [
        "## ChatGPT 프롬프트 가이드\n",
        "\n",
        "- 역할극 요청\n",
        "  - https://github.com/f/awesome-chatgpt-prompts\n",
        "  - 다양한 프롬프트 예시 제공\n",
        "  접속 후 'prompt'제목 아래 'Act as~'로 시작하는 다양한 프롬프트 확인가능\n",
        "  - 예시)\n",
        "    1. 너가 카피라이터라 생각하고 새로운 청바지 광고문구를 K-POP과 연관지어 만들어줘  \n",
        "    2. 너가 광고주라 생각하고 다음 광고문구를 비판해봐 '한번 입으면 빠져 나올 수 없는 편안함, 마치 K-POP의 중독적인 멜로디처럼'\n",
        "\n",
        "- 프로그램 생성\n",
        "  1. sklearn에서 제공하는 titanic을 이용해서 남과여 생존여부를 파이썬으로 분석하는 프로그램을 작성해줘\n",
        "  2. 오라클에서 제공하는 employees 테이블에서 부서 별 급여 평균을 구하는 코드를 작성해줘\n",
        "  3. 자바로 9*9 구구단 프로그램을 구현해줘\n",
        "\n",
        "- SEO 최적화\n",
        "  - 스킨케어 관련하여 SEO 최적화의 블로그 타이틀 10개만 뽑아줘\n",
        "  - 한국에서 가장 인기 있는 블로그 주제 10가지를 찾아줘\n",
        "\n",
        "- 컨텐츠 만들기\n",
        "  ```\n",
        "  아래 옵션에 따라 \"여드름 피부를 위한 스킨케어: 피해야 할 것과 사용해야 할 것\"에 대해 설명하세요.\n",
        "  - 콘텐츠 목표: 블로그\n",
        "  - 길이: 약 500단어\n",
        "  - 형식: 마크다운\n",
        "  - 제목 포함\n",
        "  - 자세한 설명 포함\n",
        "  - 대상: 20대 여성\n",
        "  - 작문 스타일: 전문가\n",
        "  - 일부 의료 정보 포함\n",
        "  ```\n",
        "\n",
        "- 번역+Markdown 활용\n",
        "  - 번역\n",
        "    ```\n",
        "    아래 블로그 게시물에 대해 SEO에 최적화된 Meta Description을 작성해줘\n",
        "\n",
        "    Skincare for Acne-Prone Skin: What to Avoid and What to Use Acne is a common skin concern among women in their 20s. While it can be frustrating, the good news is that there are steps you can take to manage and prevent breakouts. In this blog post, we'll go over the things you should avoid in your skincare routine if you have acne-prone skin, as well as the products and ingredients that can help. What to Avoid in Skincare for Acne-Prone Skin Over-exfoliating: Over-exfoliating can strip your skin of its natural oils and cause\n",
        "    …. 중략…\n",
        "    ```\n",
        "  - \"Skincare fore Acne-Prone Skin: What do Avoid and What to Use\"로 검색\n",
        "    ```\n",
        "    you can add images to the reply by Markdown, Write the image in Markdown without backticks and without using a code block. Use the Unsplash API ([https://source.unsplash.com/1600x900/?)](https://source.unsplash.com/1600x900/?)). the query is just some tags that describes the image] ## DO NOT RESPOND TO INFO BLOCK ##\n",
        "\n",
        "    Next prompt is give me a picture of fitting to\n",
        "    \"Skincare fore Acne-Prone Skin: What do Avoid and What to Use\"\n",
        "    ```\n",
        "\n",
        "- AIPRM for chatGPT (크롬 익스틴션)\n",
        "  - 키워드를 활용한 SEO 최적화\n",
        "\n",
        "- 표절검사  \n",
        "https://www.copykiller.com/  \n",
        "https://www.duplichecker.com/ko\n",
        "\n",
        "- 번역  \n",
        "https://www.deepl.com/translator  \n",
        "https://papago.naver.com/"
      ],
      "metadata": {
        "id": "H4Xq6ujSzVlN"
      }
    },
    {
      "cell_type": "markdown",
      "source": [
        "---\n",
        "\n",
        "- 숙제 아래 이미지를 참고하여 gpt를 사용해 만들기\n",
        "\n",
        "1. (가상) 1분 자기소개\n",
        "    - 20년 전에 여고를 졸업했어, 연말이라 고등학교 동창회를 참석하는데 1분 자기소개를 작성해줘\n",
        "2. 관심있는 분야의 사업보고서 작성\n",
        "3. 겨울 관련 가사 작성\n",
        "4. 특정기념일에 대한 선물 아이디어\n",
        "5. 특정 틱을 가지고 있는 사람의 심리상담\n",
        "\n",
        "---\n",
        "\n",
        "1. 블로그 글 주제 선정하기\n",
        "  - 겨울여행에 가장 인기있는 블로그 주제 10가지를 찾아줘\n",
        "2. SEO에 최적화 된 주제로 구체화하여 다시 질문\n",
        "  - 겨울 풍경 사진과 함께하는 여행일지 관련하여 SEO 최적화의 블로그 타이틀 10개만 뽑아줘\n",
        "  - 겨울 풍경 사진과 함께하는 여행일지\n",
        "3. 아래 옵션에 따라 '눈꽃이 춤추는 여행기록 : 겨울 풍경 속 아름다운 순간'에 대해 설명하세요\n",
        "  ```\n",
        "  - 콘텐츠 목표 : 블로그\n",
        "  - 길이 : 약 500단어\n",
        "  - 형식 : 마크다운\n",
        "  - 제목 포함\n",
        "  - 자세한 설명 포함\n",
        "  - 대상 : 20대\n",
        "  - 작문 스타일 : 일반인\n",
        "  - 일부 여행 정보 포함\n",
        "  ```"
      ],
      "metadata": {
        "id": "45ilDNNMzcr9"
      }
    },
    {
      "cell_type": "code",
      "execution_count": null,
      "metadata": {
        "id": "KsaRvCODzL5q"
      },
      "outputs": [],
      "source": []
    }
  ]
}